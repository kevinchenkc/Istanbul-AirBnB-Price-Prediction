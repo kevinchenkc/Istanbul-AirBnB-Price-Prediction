{
 "cells": [
  {
   "cell_type": "markdown",
   "metadata": {},
   "source": [
    "# ISTANBUL AIRBNB PRICE PREDICTION\n",
    "![https://cdns.klimg.com/dream.co.id/resized/640x320/news/2019/10/18/120288/menyusuri-istanbul-ibu-kota-tiga-kekaisaran-terbesar-dunia-1910189.jpg](https://cdns.klimg.com/dream.co.id/resized/640x320/news/2019/10/18/120288/menyusuri-istanbul-ibu-kota-tiga-kekaisaran-terbesar-dunia-1910189.jpg)"
   ]
  },
  {
   "cell_type": "code",
   "execution_count": 1,
   "metadata": {},
   "outputs": [],
   "source": [
    "## Import Common Package\n",
    "import numpy as np\n",
    "import pandas as pd\n",
    "import matplotlib.pyplot as plt\n",
    "import seaborn as sns\n",
    "import warnings\n",
    "warnings.filterwarnings('ignore')"
   ]
  },
  {
   "cell_type": "markdown",
   "metadata": {},
   "source": [
    "[Dataset Source](https://www.kaggle.com/datasets/ocakhsn/istanbul-airbnb-dataset)"
   ]
  },
  {
   "cell_type": "code",
   "execution_count": 2,
   "metadata": {},
   "outputs": [
    {
     "data": {
      "text/html": [
       "<div>\n",
       "<style scoped>\n",
       "    .dataframe tbody tr th:only-of-type {\n",
       "        vertical-align: middle;\n",
       "    }\n",
       "\n",
       "    .dataframe tbody tr th {\n",
       "        vertical-align: top;\n",
       "    }\n",
       "\n",
       "    .dataframe thead th {\n",
       "        text-align: right;\n",
       "    }\n",
       "</style>\n",
       "<table border=\"1\" class=\"dataframe\">\n",
       "  <thead>\n",
       "    <tr style=\"text-align: right;\">\n",
       "      <th></th>\n",
       "      <th>name</th>\n",
       "      <th>host_id</th>\n",
       "      <th>host_name</th>\n",
       "      <th>neighbourhood_group</th>\n",
       "      <th>neighbourhood</th>\n",
       "      <th>latitude</th>\n",
       "      <th>longitude</th>\n",
       "      <th>room_type</th>\n",
       "      <th>price</th>\n",
       "      <th>minimum_nights</th>\n",
       "      <th>number_of_reviews</th>\n",
       "      <th>last_review</th>\n",
       "      <th>reviews_per_month</th>\n",
       "      <th>calculated_host_listings_count</th>\n",
       "      <th>availability_365</th>\n",
       "    </tr>\n",
       "    <tr>\n",
       "      <th>id</th>\n",
       "      <th></th>\n",
       "      <th></th>\n",
       "      <th></th>\n",
       "      <th></th>\n",
       "      <th></th>\n",
       "      <th></th>\n",
       "      <th></th>\n",
       "      <th></th>\n",
       "      <th></th>\n",
       "      <th></th>\n",
       "      <th></th>\n",
       "      <th></th>\n",
       "      <th></th>\n",
       "      <th></th>\n",
       "      <th></th>\n",
       "    </tr>\n",
       "  </thead>\n",
       "  <tbody>\n",
       "    <tr>\n",
       "      <th>4826</th>\n",
       "      <td>The Place</td>\n",
       "      <td>6603</td>\n",
       "      <td>Kaan</td>\n",
       "      <td>NaN</td>\n",
       "      <td>Uskudar</td>\n",
       "      <td>41.05650</td>\n",
       "      <td>29.05367</td>\n",
       "      <td>Entire home/apt</td>\n",
       "      <td>720</td>\n",
       "      <td>1</td>\n",
       "      <td>1</td>\n",
       "      <td>2009-06-01</td>\n",
       "      <td>0.01</td>\n",
       "      <td>1</td>\n",
       "      <td>365</td>\n",
       "    </tr>\n",
       "    <tr>\n",
       "      <th>20815</th>\n",
       "      <td>The Bosphorus from The Comfy Hill</td>\n",
       "      <td>78838</td>\n",
       "      <td>Gülder</td>\n",
       "      <td>NaN</td>\n",
       "      <td>Besiktas</td>\n",
       "      <td>41.06984</td>\n",
       "      <td>29.04545</td>\n",
       "      <td>Entire home/apt</td>\n",
       "      <td>816</td>\n",
       "      <td>365</td>\n",
       "      <td>41</td>\n",
       "      <td>2018-11-07</td>\n",
       "      <td>0.33</td>\n",
       "      <td>2</td>\n",
       "      <td>279</td>\n",
       "    </tr>\n",
       "    <tr>\n",
       "      <th>27271</th>\n",
       "      <td>LOVELY APT. IN PERFECT LOCATION</td>\n",
       "      <td>117026</td>\n",
       "      <td>Mutlu</td>\n",
       "      <td>NaN</td>\n",
       "      <td>Beyoglu</td>\n",
       "      <td>41.03254</td>\n",
       "      <td>28.98153</td>\n",
       "      <td>Entire home/apt</td>\n",
       "      <td>233</td>\n",
       "      <td>30</td>\n",
       "      <td>13</td>\n",
       "      <td>2018-05-04</td>\n",
       "      <td>0.19</td>\n",
       "      <td>1</td>\n",
       "      <td>289</td>\n",
       "    </tr>\n",
       "    <tr>\n",
       "      <th>28277</th>\n",
       "      <td>Duplex Apartment with Terrace</td>\n",
       "      <td>121607</td>\n",
       "      <td>Alen</td>\n",
       "      <td>NaN</td>\n",
       "      <td>Sisli</td>\n",
       "      <td>41.04471</td>\n",
       "      <td>28.98567</td>\n",
       "      <td>Hotel room</td>\n",
       "      <td>761</td>\n",
       "      <td>3</td>\n",
       "      <td>0</td>\n",
       "      <td>NaN</td>\n",
       "      <td>NaN</td>\n",
       "      <td>19</td>\n",
       "      <td>365</td>\n",
       "    </tr>\n",
       "    <tr>\n",
       "      <th>28318</th>\n",
       "      <td>Cosy home overlooking Bosphorus</td>\n",
       "      <td>121721</td>\n",
       "      <td>Aydin</td>\n",
       "      <td>NaN</td>\n",
       "      <td>Sariyer</td>\n",
       "      <td>41.09048</td>\n",
       "      <td>29.05559</td>\n",
       "      <td>Entire home/apt</td>\n",
       "      <td>823</td>\n",
       "      <td>3</td>\n",
       "      <td>0</td>\n",
       "      <td>NaN</td>\n",
       "      <td>NaN</td>\n",
       "      <td>1</td>\n",
       "      <td>88</td>\n",
       "    </tr>\n",
       "  </tbody>\n",
       "</table>\n",
       "</div>"
      ],
      "text/plain": [
       "                                    name  host_id host_name  \\\n",
       "id                                                            \n",
       "4826                           The Place     6603      Kaan   \n",
       "20815  The Bosphorus from The Comfy Hill    78838    Gülder   \n",
       "27271    LOVELY APT. IN PERFECT LOCATION   117026     Mutlu   \n",
       "28277      Duplex Apartment with Terrace   121607      Alen   \n",
       "28318    Cosy home overlooking Bosphorus   121721     Aydin   \n",
       "\n",
       "       neighbourhood_group neighbourhood  latitude  longitude  \\\n",
       "id                                                              \n",
       "4826                   NaN       Uskudar  41.05650   29.05367   \n",
       "20815                  NaN      Besiktas  41.06984   29.04545   \n",
       "27271                  NaN       Beyoglu  41.03254   28.98153   \n",
       "28277                  NaN         Sisli  41.04471   28.98567   \n",
       "28318                  NaN       Sariyer  41.09048   29.05559   \n",
       "\n",
       "             room_type  price  minimum_nights  number_of_reviews last_review  \\\n",
       "id                                                                             \n",
       "4826   Entire home/apt    720               1                  1  2009-06-01   \n",
       "20815  Entire home/apt    816             365                 41  2018-11-07   \n",
       "27271  Entire home/apt    233              30                 13  2018-05-04   \n",
       "28277       Hotel room    761               3                  0         NaN   \n",
       "28318  Entire home/apt    823               3                  0         NaN   \n",
       "\n",
       "       reviews_per_month  calculated_host_listings_count  availability_365  \n",
       "id                                                                          \n",
       "4826                0.01                               1               365  \n",
       "20815               0.33                               2               279  \n",
       "27271               0.19                               1               289  \n",
       "28277                NaN                              19               365  \n",
       "28318                NaN                               1                88  "
      ]
     },
     "execution_count": 2,
     "metadata": {},
     "output_type": "execute_result"
    }
   ],
   "source": [
    "## Import Dataset\n",
    "df = pd.read_csv('listings.csv', index_col=0)\n",
    "## Show Dataset\n",
    "df.head()"
   ]
  },
  {
   "cell_type": "markdown",
   "metadata": {},
   "source": [
    "<hr>\n",
    "\n",
    "## 1. Data Understanding and Data Wrangling"
   ]
  },
  {
   "cell_type": "code",
   "execution_count": 3,
   "metadata": {},
   "outputs": [
    {
     "name": "stdout",
     "output_type": "stream",
     "text": [
      "<class 'pandas.core.frame.DataFrame'>\n",
      "Int64Index: 23728 entries, 4826 to 43970934\n",
      "Data columns (total 15 columns):\n",
      " #   Column                          Non-Null Count  Dtype  \n",
      "---  ------                          --------------  -----  \n",
      " 0   name                            23674 non-null  object \n",
      " 1   host_id                         23728 non-null  int64  \n",
      " 2   host_name                       23727 non-null  object \n",
      " 3   neighbourhood_group             0 non-null      float64\n",
      " 4   neighbourhood                   23728 non-null  object \n",
      " 5   latitude                        23728 non-null  float64\n",
      " 6   longitude                       23728 non-null  float64\n",
      " 7   room_type                       23728 non-null  object \n",
      " 8   price                           23728 non-null  int64  \n",
      " 9   minimum_nights                  23728 non-null  int64  \n",
      " 10  number_of_reviews               23728 non-null  int64  \n",
      " 11  last_review                     11353 non-null  object \n",
      " 12  reviews_per_month               11353 non-null  float64\n",
      " 13  calculated_host_listings_count  23728 non-null  int64  \n",
      " 14  availability_365                23728 non-null  int64  \n",
      "dtypes: float64(4), int64(6), object(5)\n",
      "memory usage: 2.9+ MB\n"
     ]
    }
   ],
   "source": [
    "## Show Columns Information\n",
    "df.info()\n",
    "## Result: We detected missing value of few of the columns"
   ]
  },
  {
   "cell_type": "code",
   "execution_count": 4,
   "metadata": {},
   "outputs": [
    {
     "data": {
      "text/plain": [
       "name                                 54\n",
       "host_id                               0\n",
       "host_name                             1\n",
       "neighbourhood_group               23728\n",
       "neighbourhood                         0\n",
       "latitude                              0\n",
       "longitude                             0\n",
       "room_type                             0\n",
       "price                                 0\n",
       "minimum_nights                        0\n",
       "number_of_reviews                     0\n",
       "last_review                       12375\n",
       "reviews_per_month                 12375\n",
       "calculated_host_listings_count        0\n",
       "availability_365                      0\n",
       "dtype: int64"
      ]
     },
     "execution_count": 4,
     "metadata": {},
     "output_type": "execute_result"
    }
   ],
   "source": [
    "## Confirm Missing Value\n",
    "df.isna().sum()"
   ]
  },
  {
   "cell_type": "code",
   "execution_count": 5,
   "metadata": {},
   "outputs": [
    {
     "data": {
      "image/png": "[encoded data removed]",
      "text/plain": [
       "<Figure size 1440x576 with 1 Axes>"
      ]
     },
     "metadata": {
      "needs_background": "light"
     },
     "output_type": "display_data"
    }
   ],
   "source": [
    "## Visualize Missing Value with Heatmap\n",
    "plt.figure(figsize=(20,8))\n",
    "sns.heatmap(df.isna(), cmap='winter', cbar=False, yticklabels=False)\n",
    "plt.xticks(rotation=30)\n",
    "plt.show()"
   ]
  },
  {
   "cell_type": "code",
   "execution_count": 6,
   "metadata": {},
   "outputs": [
    {
     "data": {
      "text/html": [
       "<div>\n",
       "<style scoped>\n",
       "    .dataframe tbody tr th:only-of-type {\n",
       "        vertical-align: middle;\n",
       "    }\n",
       "\n",
       "    .dataframe tbody tr th {\n",
       "        vertical-align: top;\n",
       "    }\n",
       "\n",
       "    .dataframe thead th {\n",
       "        text-align: right;\n",
       "    }\n",
       "</style>\n",
       "<table border=\"1\" class=\"dataframe\">\n",
       "  <thead>\n",
       "    <tr style=\"text-align: right;\">\n",
       "      <th></th>\n",
       "      <th>count</th>\n",
       "      <th>mean</th>\n",
       "      <th>std</th>\n",
       "      <th>min</th>\n",
       "      <th>25%</th>\n",
       "      <th>50%</th>\n",
       "      <th>75%</th>\n",
       "      <th>max</th>\n",
       "    </tr>\n",
       "  </thead>\n",
       "  <tbody>\n",
       "    <tr>\n",
       "      <th>host_id</th>\n",
       "      <td>23728.0</td>\n",
       "      <td>1.493973e+08</td>\n",
       "      <td>1.155452e+08</td>\n",
       "      <td>6603.00000</td>\n",
       "      <td>3.285440e+07</td>\n",
       "      <td>1.477727e+08</td>\n",
       "      <td>2.588145e+08</td>\n",
       "      <td>3.522041e+08</td>\n",
       "    </tr>\n",
       "    <tr>\n",
       "      <th>neighbourhood_group</th>\n",
       "      <td>0.0</td>\n",
       "      <td>NaN</td>\n",
       "      <td>NaN</td>\n",
       "      <td>NaN</td>\n",
       "      <td>NaN</td>\n",
       "      <td>NaN</td>\n",
       "      <td>NaN</td>\n",
       "      <td>NaN</td>\n",
       "    </tr>\n",
       "    <tr>\n",
       "      <th>latitude</th>\n",
       "      <td>23728.0</td>\n",
       "      <td>4.102842e+01</td>\n",
       "      <td>4.571288e-02</td>\n",
       "      <td>40.81396</td>\n",
       "      <td>4.100512e+01</td>\n",
       "      <td>4.103185e+01</td>\n",
       "      <td>4.104853e+01</td>\n",
       "      <td>4.147903e+01</td>\n",
       "    </tr>\n",
       "    <tr>\n",
       "      <th>longitude</th>\n",
       "      <td>23728.0</td>\n",
       "      <td>2.898211e+01</td>\n",
       "      <td>1.275031e-01</td>\n",
       "      <td>28.01901</td>\n",
       "      <td>2.897321e+01</td>\n",
       "      <td>2.898349e+01</td>\n",
       "      <td>2.902005e+01</td>\n",
       "      <td>2.990778e+01</td>\n",
       "    </tr>\n",
       "    <tr>\n",
       "      <th>price</th>\n",
       "      <td>23728.0</td>\n",
       "      <td>4.846432e+02</td>\n",
       "      <td>1.973884e+03</td>\n",
       "      <td>0.00000</td>\n",
       "      <td>1.370000e+02</td>\n",
       "      <td>2.470000e+02</td>\n",
       "      <td>4.460000e+02</td>\n",
       "      <td>7.692200e+04</td>\n",
       "    </tr>\n",
       "    <tr>\n",
       "      <th>minimum_nights</th>\n",
       "      <td>23728.0</td>\n",
       "      <td>4.525202e+00</td>\n",
       "      <td>2.761419e+01</td>\n",
       "      <td>1.00000</td>\n",
       "      <td>1.000000e+00</td>\n",
       "      <td>1.000000e+00</td>\n",
       "      <td>3.000000e+00</td>\n",
       "      <td>1.125000e+03</td>\n",
       "    </tr>\n",
       "    <tr>\n",
       "      <th>number_of_reviews</th>\n",
       "      <td>23728.0</td>\n",
       "      <td>7.870828e+00</td>\n",
       "      <td>2.322913e+01</td>\n",
       "      <td>0.00000</td>\n",
       "      <td>0.000000e+00</td>\n",
       "      <td>0.000000e+00</td>\n",
       "      <td>4.000000e+00</td>\n",
       "      <td>3.450000e+02</td>\n",
       "    </tr>\n",
       "    <tr>\n",
       "      <th>reviews_per_month</th>\n",
       "      <td>11353.0</td>\n",
       "      <td>7.101770e-01</td>\n",
       "      <td>9.029131e-01</td>\n",
       "      <td>0.01000</td>\n",
       "      <td>1.300000e-01</td>\n",
       "      <td>3.300000e-01</td>\n",
       "      <td>9.500000e-01</td>\n",
       "      <td>9.200000e+00</td>\n",
       "    </tr>\n",
       "    <tr>\n",
       "      <th>calculated_host_listings_count</th>\n",
       "      <td>23728.0</td>\n",
       "      <td>5.861767e+00</td>\n",
       "      <td>1.653537e+01</td>\n",
       "      <td>1.00000</td>\n",
       "      <td>1.000000e+00</td>\n",
       "      <td>2.000000e+00</td>\n",
       "      <td>5.000000e+00</td>\n",
       "      <td>1.760000e+02</td>\n",
       "    </tr>\n",
       "    <tr>\n",
       "      <th>availability_365</th>\n",
       "      <td>23728.0</td>\n",
       "      <td>2.277099e+02</td>\n",
       "      <td>1.466071e+02</td>\n",
       "      <td>0.00000</td>\n",
       "      <td>8.900000e+01</td>\n",
       "      <td>3.020000e+02</td>\n",
       "      <td>3.650000e+02</td>\n",
       "      <td>3.650000e+02</td>\n",
       "    </tr>\n",
       "  </tbody>\n",
       "</table>\n",
       "</div>"
      ],
      "text/plain": [
       "                                  count          mean           std  \\\n",
       "host_id                         23728.0  1.493973e+08  1.155452e+08   \n",
       "neighbourhood_group                 0.0           NaN           NaN   \n",
       "latitude                        23728.0  4.102842e+01  4.571288e-02   \n",
       "longitude                       23728.0  2.898211e+01  1.275031e-01   \n",
       "price                           23728.0  4.846432e+02  1.973884e+03   \n",
       "minimum_nights                  23728.0  4.525202e+00  2.761419e+01   \n",
       "number_of_reviews               23728.0  7.870828e+00  2.322913e+01   \n",
       "reviews_per_month               11353.0  7.101770e-01  9.029131e-01   \n",
       "calculated_host_listings_count  23728.0  5.861767e+00  1.653537e+01   \n",
       "availability_365                23728.0  2.277099e+02  1.466071e+02   \n",
       "\n",
       "                                       min           25%           50%  \\\n",
       "host_id                         6603.00000  3.285440e+07  1.477727e+08   \n",
       "neighbourhood_group                    NaN           NaN           NaN   \n",
       "latitude                          40.81396  4.100512e+01  4.103185e+01   \n",
       "longitude                         28.01901  2.897321e+01  2.898349e+01   \n",
       "price                              0.00000  1.370000e+02  2.470000e+02   \n",
       "minimum_nights                     1.00000  1.000000e+00  1.000000e+00   \n",
       "number_of_reviews                  0.00000  0.000000e+00  0.000000e+00   \n",
       "reviews_per_month                  0.01000  1.300000e-01  3.300000e-01   \n",
       "calculated_host_listings_count     1.00000  1.000000e+00  2.000000e+00   \n",
       "availability_365                   0.00000  8.900000e+01  3.020000e+02   \n",
       "\n",
       "                                         75%           max  \n",
       "host_id                         2.588145e+08  3.522041e+08  \n",
       "neighbourhood_group                      NaN           NaN  \n",
       "latitude                        4.104853e+01  4.147903e+01  \n",
       "longitude                       2.902005e+01  2.990778e+01  \n",
       "price                           4.460000e+02  7.692200e+04  \n",
       "minimum_nights                  3.000000e+00  1.125000e+03  \n",
       "number_of_reviews               4.000000e+00  3.450000e+02  \n",
       "reviews_per_month               9.500000e-01  9.200000e+00  \n",
       "calculated_host_listings_count  5.000000e+00  1.760000e+02  \n",
       "availability_365                3.650000e+02  3.650000e+02  "
      ]
     },
     "execution_count": 6,
     "metadata": {},
     "output_type": "execute_result"
    }
   ],
   "source": [
    "## Describe Numerical Column\n",
    "df.describe().T"
   ]
  },
  {
   "cell_type": "code",
   "execution_count": 7,
   "metadata": {},
   "outputs": [],
   "source": [
    "## We drop neighbourhood_group since it didn't contain any data\n",
    "df.drop(columns='neighbourhood_group', inplace=True)"
   ]
  },
  {
   "cell_type": "code",
   "execution_count": 8,
   "metadata": {},
   "outputs": [
    {
     "data": {
      "text/html": [
       "<div>\n",
       "<style scoped>\n",
       "    .dataframe tbody tr th:only-of-type {\n",
       "        vertical-align: middle;\n",
       "    }\n",
       "\n",
       "    .dataframe tbody tr th {\n",
       "        vertical-align: top;\n",
       "    }\n",
       "\n",
       "    .dataframe thead th {\n",
       "        text-align: right;\n",
       "    }\n",
       "</style>\n",
       "<table border=\"1\" class=\"dataframe\">\n",
       "  <thead>\n",
       "    <tr style=\"text-align: right;\">\n",
       "      <th></th>\n",
       "      <th>Data Features</th>\n",
       "      <th>Data Types</th>\n",
       "      <th>Null</th>\n",
       "      <th>Null Percentage</th>\n",
       "      <th>Unique</th>\n",
       "      <th>Unique Sample</th>\n",
       "    </tr>\n",
       "  </thead>\n",
       "  <tbody>\n",
       "    <tr>\n",
       "      <th>0</th>\n",
       "      <td>name</td>\n",
       "      <td>object</td>\n",
       "      <td>54</td>\n",
       "      <td>0.23</td>\n",
       "      <td>22690</td>\n",
       "      <td>[Condo with 3 bedroom at Fulya, Mecidiyeköy, G...</td>\n",
       "    </tr>\n",
       "    <tr>\n",
       "      <th>1</th>\n",
       "      <td>host_id</td>\n",
       "      <td>int64</td>\n",
       "      <td>0</td>\n",
       "      <td>0.00</td>\n",
       "      <td>14450</td>\n",
       "      <td>[166793960, 201770922]</td>\n",
       "    </tr>\n",
       "    <tr>\n",
       "      <th>2</th>\n",
       "      <td>host_name</td>\n",
       "      <td>object</td>\n",
       "      <td>1</td>\n",
       "      <td>0.00</td>\n",
       "      <td>4907</td>\n",
       "      <td>[Elisabeth, Benan]</td>\n",
       "    </tr>\n",
       "    <tr>\n",
       "      <th>3</th>\n",
       "      <td>neighbourhood</td>\n",
       "      <td>object</td>\n",
       "      <td>0</td>\n",
       "      <td>0.00</td>\n",
       "      <td>39</td>\n",
       "      <td>[Kagithane, Cekmekoy]</td>\n",
       "    </tr>\n",
       "    <tr>\n",
       "      <th>4</th>\n",
       "      <td>latitude</td>\n",
       "      <td>float64</td>\n",
       "      <td>0</td>\n",
       "      <td>0.00</td>\n",
       "      <td>10858</td>\n",
       "      <td>[40.99274, 41.04471]</td>\n",
       "    </tr>\n",
       "    <tr>\n",
       "      <th>5</th>\n",
       "      <td>longitude</td>\n",
       "      <td>float64</td>\n",
       "      <td>0</td>\n",
       "      <td>0.00</td>\n",
       "      <td>12458</td>\n",
       "      <td>[28.84544, 28.71335]</td>\n",
       "    </tr>\n",
       "    <tr>\n",
       "      <th>6</th>\n",
       "      <td>room_type</td>\n",
       "      <td>object</td>\n",
       "      <td>0</td>\n",
       "      <td>0.00</td>\n",
       "      <td>4</td>\n",
       "      <td>[Shared room, Hotel room]</td>\n",
       "    </tr>\n",
       "    <tr>\n",
       "      <th>7</th>\n",
       "      <td>price</td>\n",
       "      <td>int64</td>\n",
       "      <td>0</td>\n",
       "      <td>0.00</td>\n",
       "      <td>501</td>\n",
       "      <td>[1995, 76922]</td>\n",
       "    </tr>\n",
       "    <tr>\n",
       "      <th>8</th>\n",
       "      <td>minimum_nights</td>\n",
       "      <td>int64</td>\n",
       "      <td>0</td>\n",
       "      <td>0.00</td>\n",
       "      <td>65</td>\n",
       "      <td>[65, 140]</td>\n",
       "    </tr>\n",
       "    <tr>\n",
       "      <th>9</th>\n",
       "      <td>number_of_reviews</td>\n",
       "      <td>int64</td>\n",
       "      <td>0</td>\n",
       "      <td>0.00</td>\n",
       "      <td>230</td>\n",
       "      <td>[77, 173]</td>\n",
       "    </tr>\n",
       "    <tr>\n",
       "      <th>10</th>\n",
       "      <td>last_review</td>\n",
       "      <td>object</td>\n",
       "      <td>12375</td>\n",
       "      <td>52.15</td>\n",
       "      <td>1424</td>\n",
       "      <td>[2019-12-24, 2018-09-26]</td>\n",
       "    </tr>\n",
       "    <tr>\n",
       "      <th>11</th>\n",
       "      <td>reviews_per_month</td>\n",
       "      <td>float64</td>\n",
       "      <td>12375</td>\n",
       "      <td>52.15</td>\n",
       "      <td>473</td>\n",
       "      <td>[3.35, 0.33]</td>\n",
       "    </tr>\n",
       "    <tr>\n",
       "      <th>12</th>\n",
       "      <td>calculated_host_listings_count</td>\n",
       "      <td>int64</td>\n",
       "      <td>0</td>\n",
       "      <td>0.00</td>\n",
       "      <td>35</td>\n",
       "      <td>[29, 65]</td>\n",
       "    </tr>\n",
       "    <tr>\n",
       "      <th>13</th>\n",
       "      <td>availability_365</td>\n",
       "      <td>int64</td>\n",
       "      <td>0</td>\n",
       "      <td>0.00</td>\n",
       "      <td>353</td>\n",
       "      <td>[316, 185]</td>\n",
       "    </tr>\n",
       "  </tbody>\n",
       "</table>\n",
       "</div>"
      ],
      "text/plain": [
       "                     Data Features Data Types   Null  Null Percentage  Unique  \\\n",
       "0                             name     object     54             0.23   22690   \n",
       "1                          host_id      int64      0             0.00   14450   \n",
       "2                        host_name     object      1             0.00    4907   \n",
       "3                    neighbourhood     object      0             0.00      39   \n",
       "4                         latitude    float64      0             0.00   10858   \n",
       "5                        longitude    float64      0             0.00   12458   \n",
       "6                        room_type     object      0             0.00       4   \n",
       "7                            price      int64      0             0.00     501   \n",
       "8                   minimum_nights      int64      0             0.00      65   \n",
       "9                number_of_reviews      int64      0             0.00     230   \n",
       "10                     last_review     object  12375            52.15    1424   \n",
       "11               reviews_per_month    float64  12375            52.15     473   \n",
       "12  calculated_host_listings_count      int64      0             0.00      35   \n",
       "13                availability_365      int64      0             0.00     353   \n",
       "\n",
       "                                        Unique Sample  \n",
       "0   [Condo with 3 bedroom at Fulya, Mecidiyeköy, G...  \n",
       "1                              [166793960, 201770922]  \n",
       "2                                  [Elisabeth, Benan]  \n",
       "3                               [Kagithane, Cekmekoy]  \n",
       "4                                [40.99274, 41.04471]  \n",
       "5                                [28.84544, 28.71335]  \n",
       "6                           [Shared room, Hotel room]  \n",
       "7                                       [1995, 76922]  \n",
       "8                                           [65, 140]  \n",
       "9                                           [77, 173]  \n",
       "10                           [2019-12-24, 2018-09-26]  \n",
       "11                                       [3.35, 0.33]  \n",
       "12                                           [29, 65]  \n",
       "13                                         [316, 185]  "
      ]
     },
     "execution_count": 8,
     "metadata": {},
     "output_type": "execute_result"
    }
   ],
   "source": [
    "# Describe Data\n",
    "istanbulDesc=[]\n",
    "for i in df.columns:\n",
    "    istanbulDesc.append([\n",
    "        i,\n",
    "        df[i].dtypes,\n",
    "        df[i].isna().sum(),\n",
    "        round((((df[i].isna().sum())/len(df))*100),2),\n",
    "        df[i].nunique(),\n",
    "        df[i].drop_duplicates().sample(2).values\n",
    "    ])\n",
    "\n",
    "pd.DataFrame(istanbulDesc, columns=[\n",
    "    'Data Features',\n",
    "    'Data Types',\n",
    "    'Null',\n",
    "    'Null Percentage',\n",
    "    'Unique',\n",
    "    'Unique Sample'\n",
    "])\n",
    "\n",
    "## Result: we have 14 columns, 5 of them are objects while the rest have data type of either float or integer\n",
    "### last_review and reviews_per_month have null row above 50% of its value, while name has 54 missing values."
   ]
  },
  {
   "cell_type": "markdown",
   "metadata": {},
   "source": [
    "### Feature Selection"
   ]
  },
  {
   "cell_type": "markdown",
   "metadata": {},
   "source": [
    "#### Correlation"
   ]
  },
  {
   "cell_type": "code",
   "execution_count": 9,
   "metadata": {},
   "outputs": [
    {
     "data": {
      "image/png": "[encoded data removed]",
      "text/plain": [
       "<Figure size 1080x504 with 1 Axes>"
      ]
     },
     "metadata": {
      "needs_background": "light"
     },
     "output_type": "display_data"
    }
   ],
   "source": [
    "## Visualize Correlation with Heatmap\n",
    "plt.figure(figsize=(15,7))\n",
    "sns.heatmap(df.corr(), annot=True, cbar=False)\n",
    "plt.xticks(rotation=30);"
   ]
  },
  {
   "cell_type": "markdown",
   "metadata": {},
   "source": [
    "Correlation score between features to target column are low, no single feature having correlation score above 0.1 towards target (Price.)"
   ]
  },
  {
   "cell_type": "markdown",
   "metadata": {},
   "source": [
    "#### Correlation Ratio"
   ]
  },
  {
   "cell_type": "code",
   "execution_count": 10,
   "metadata": {},
   "outputs": [],
   "source": [
    "## Import Package\n",
    "from dython.nominal import correlation_ratio, associations, cramers_v, theils_u"
   ]
  },
  {
   "cell_type": "code",
   "execution_count": 11,
   "metadata": {},
   "outputs": [
    {
     "data": {
      "text/plain": [
       "Index(['name', 'host_id', 'host_name', 'neighbourhood', 'latitude',\n",
       "       'longitude', 'room_type', 'price', 'minimum_nights',\n",
       "       'number_of_reviews', 'last_review', 'reviews_per_month',\n",
       "       'calculated_host_listings_count', 'availability_365'],\n",
       "      dtype='object')"
      ]
     },
     "execution_count": 11,
     "metadata": {},
     "output_type": "execute_result"
    }
   ],
   "source": [
    "## Check Columns Name\n",
    "df.columns"
   ]
  },
  {
   "cell_type": "code",
   "execution_count": 12,
   "metadata": {},
   "outputs": [
    {
     "data": {
      "text/plain": [
       "name                               object\n",
       "host_id                             int64\n",
       "host_name                          object\n",
       "neighbourhood                      object\n",
       "latitude                          float64\n",
       "longitude                         float64\n",
       "room_type                          object\n",
       "price                               int64\n",
       "minimum_nights                      int64\n",
       "number_of_reviews                   int64\n",
       "last_review                        object\n",
       "reviews_per_month                 float64\n",
       "calculated_host_listings_count      int64\n",
       "availability_365                    int64\n",
       "dtype: object"
      ]
     },
     "execution_count": 12,
     "metadata": {},
     "output_type": "execute_result"
    }
   ],
   "source": [
    "## Check Column's Data Type\n",
    "df.dtypes"
   ]
  },
  {
   "cell_type": "code",
   "execution_count": 13,
   "metadata": {},
   "outputs": [],
   "source": [
    "## Define categorical columns\n",
    "col = ['neighbourhood', 'room_type']\n",
    "## name, host_name and last_review should not affect room price"
   ]
  },
  {
   "cell_type": "code",
   "execution_count": 14,
   "metadata": {},
   "outputs": [
    {
     "data": {
      "text/plain": [
       "0.09322055112585757"
      ]
     },
     "execution_count": 14,
     "metadata": {},
     "output_type": "execute_result"
    }
   ],
   "source": [
    "## Check Correlation Ratio\n",
    "correlation_ratio( df['neighbourhood'], df['price'])\n",
    "## Low Correlation"
   ]
  },
  {
   "cell_type": "code",
   "execution_count": 15,
   "metadata": {},
   "outputs": [
    {
     "data": {
      "text/plain": [
       "0.09384584837754228"
      ]
     },
     "execution_count": 15,
     "metadata": {},
     "output_type": "execute_result"
    }
   ],
   "source": [
    "## Check Correlation Ratio\n",
    "correlation_ratio( df['room_type'], df['price'])\n",
    "## Low Correlation"
   ]
  },
  {
   "cell_type": "markdown",
   "metadata": {},
   "source": [
    "### Encoding"
   ]
  },
  {
   "cell_type": "code",
   "execution_count": 16,
   "metadata": {},
   "outputs": [
    {
     "data": {
      "text/html": [
       "<div>\n",
       "<style scoped>\n",
       "    .dataframe tbody tr th:only-of-type {\n",
       "        vertical-align: middle;\n",
       "    }\n",
       "\n",
       "    .dataframe tbody tr th {\n",
       "        vertical-align: top;\n",
       "    }\n",
       "\n",
       "    .dataframe thead th {\n",
       "        text-align: right;\n",
       "    }\n",
       "</style>\n",
       "<table border=\"1\" class=\"dataframe\">\n",
       "  <thead>\n",
       "    <tr style=\"text-align: right;\">\n",
       "      <th></th>\n",
       "      <th>neighbourhood</th>\n",
       "      <th>room_type</th>\n",
       "      <th>minimum_nights</th>\n",
       "      <th>number_of_reviews</th>\n",
       "      <th>reviews_per_month</th>\n",
       "      <th>calculated_host_listings_count</th>\n",
       "      <th>availability_365</th>\n",
       "      <th>price</th>\n",
       "    </tr>\n",
       "    <tr>\n",
       "      <th>id</th>\n",
       "      <th></th>\n",
       "      <th></th>\n",
       "      <th></th>\n",
       "      <th></th>\n",
       "      <th></th>\n",
       "      <th></th>\n",
       "      <th></th>\n",
       "      <th></th>\n",
       "    </tr>\n",
       "  </thead>\n",
       "  <tbody>\n",
       "    <tr>\n",
       "      <th>4826</th>\n",
       "      <td>Uskudar</td>\n",
       "      <td>Entire home/apt</td>\n",
       "      <td>1</td>\n",
       "      <td>1</td>\n",
       "      <td>0.01</td>\n",
       "      <td>1</td>\n",
       "      <td>365</td>\n",
       "      <td>720</td>\n",
       "    </tr>\n",
       "    <tr>\n",
       "      <th>20815</th>\n",
       "      <td>Besiktas</td>\n",
       "      <td>Entire home/apt</td>\n",
       "      <td>365</td>\n",
       "      <td>41</td>\n",
       "      <td>0.33</td>\n",
       "      <td>2</td>\n",
       "      <td>279</td>\n",
       "      <td>816</td>\n",
       "    </tr>\n",
       "    <tr>\n",
       "      <th>27271</th>\n",
       "      <td>Beyoglu</td>\n",
       "      <td>Entire home/apt</td>\n",
       "      <td>30</td>\n",
       "      <td>13</td>\n",
       "      <td>0.19</td>\n",
       "      <td>1</td>\n",
       "      <td>289</td>\n",
       "      <td>233</td>\n",
       "    </tr>\n",
       "    <tr>\n",
       "      <th>28277</th>\n",
       "      <td>Sisli</td>\n",
       "      <td>Hotel room</td>\n",
       "      <td>3</td>\n",
       "      <td>0</td>\n",
       "      <td>NaN</td>\n",
       "      <td>19</td>\n",
       "      <td>365</td>\n",
       "      <td>761</td>\n",
       "    </tr>\n",
       "    <tr>\n",
       "      <th>28318</th>\n",
       "      <td>Sariyer</td>\n",
       "      <td>Entire home/apt</td>\n",
       "      <td>3</td>\n",
       "      <td>0</td>\n",
       "      <td>NaN</td>\n",
       "      <td>1</td>\n",
       "      <td>88</td>\n",
       "      <td>823</td>\n",
       "    </tr>\n",
       "  </tbody>\n",
       "</table>\n",
       "</div>"
      ],
      "text/plain": [
       "      neighbourhood        room_type  minimum_nights  number_of_reviews  \\\n",
       "id                                                                        \n",
       "4826        Uskudar  Entire home/apt               1                  1   \n",
       "20815      Besiktas  Entire home/apt             365                 41   \n",
       "27271       Beyoglu  Entire home/apt              30                 13   \n",
       "28277         Sisli       Hotel room               3                  0   \n",
       "28318       Sariyer  Entire home/apt               3                  0   \n",
       "\n",
       "       reviews_per_month  calculated_host_listings_count  availability_365  \\\n",
       "id                                                                           \n",
       "4826                0.01                               1               365   \n",
       "20815               0.33                               2               279   \n",
       "27271               0.19                               1               289   \n",
       "28277                NaN                              19               365   \n",
       "28318                NaN                               1                88   \n",
       "\n",
       "       price  \n",
       "id            \n",
       "4826     720  \n",
       "20815    816  \n",
       "27271    233  \n",
       "28277    761  \n",
       "28318    823  "
      ]
     },
     "execution_count": 16,
     "metadata": {},
     "output_type": "execute_result"
    }
   ],
   "source": [
    "## Build new DataFrame with numerical features and target\n",
    "df_1 = df[['neighbourhood', 'room_type', 'minimum_nights', 'number_of_reviews',\n",
    "            'reviews_per_month', 'calculated_host_listings_count', 'availability_365', 'price']]\n",
    "## Show Dataframe\n",
    "df_1.head()"
   ]
  },
  {
   "cell_type": "markdown",
   "metadata": {},
   "source": [
    "#### `neighbourhood`"
   ]
  },
  {
   "cell_type": "code",
   "execution_count": 17,
   "metadata": {},
   "outputs": [
    {
     "data": {
      "text/html": [
       "<div>\n",
       "<style scoped>\n",
       "    .dataframe tbody tr th:only-of-type {\n",
       "        vertical-align: middle;\n",
       "    }\n",
       "\n",
       "    .dataframe tbody tr th {\n",
       "        vertical-align: top;\n",
       "    }\n",
       "\n",
       "    .dataframe thead th {\n",
       "        text-align: right;\n",
       "    }\n",
       "</style>\n",
       "<table border=\"1\" class=\"dataframe\">\n",
       "  <thead>\n",
       "    <tr style=\"text-align: right;\">\n",
       "      <th></th>\n",
       "      <th>price</th>\n",
       "    </tr>\n",
       "    <tr>\n",
       "      <th>neighbourhood</th>\n",
       "      <th></th>\n",
       "    </tr>\n",
       "  </thead>\n",
       "  <tbody>\n",
       "    <tr>\n",
       "      <th>Beykoz</th>\n",
       "      <td>1594.42</td>\n",
       "    </tr>\n",
       "    <tr>\n",
       "      <th>Buyukcekmece</th>\n",
       "      <td>1063.28</td>\n",
       "    </tr>\n",
       "    <tr>\n",
       "      <th>Adalar</th>\n",
       "      <td>981.46</td>\n",
       "    </tr>\n",
       "    <tr>\n",
       "      <th>Sariyer</th>\n",
       "      <td>912.64</td>\n",
       "    </tr>\n",
       "    <tr>\n",
       "      <th>Catalca</th>\n",
       "      <td>906.56</td>\n",
       "    </tr>\n",
       "    <tr>\n",
       "      <th>Kucukcekmece</th>\n",
       "      <td>870.50</td>\n",
       "    </tr>\n",
       "    <tr>\n",
       "      <th>Silivri</th>\n",
       "      <td>833.40</td>\n",
       "    </tr>\n",
       "    <tr>\n",
       "      <th>Arnavutkoy</th>\n",
       "      <td>781.71</td>\n",
       "    </tr>\n",
       "    <tr>\n",
       "      <th>Sile</th>\n",
       "      <td>721.76</td>\n",
       "    </tr>\n",
       "    <tr>\n",
       "      <th>Fatih</th>\n",
       "      <td>649.57</td>\n",
       "    </tr>\n",
       "  </tbody>\n",
       "</table>\n",
       "</div>"
      ],
      "text/plain": [
       "                 price\n",
       "neighbourhood         \n",
       "Beykoz         1594.42\n",
       "Buyukcekmece   1063.28\n",
       "Adalar          981.46\n",
       "Sariyer         912.64\n",
       "Catalca         906.56\n",
       "Kucukcekmece    870.50\n",
       "Silivri         833.40\n",
       "Arnavutkoy      781.71\n",
       "Sile            721.76\n",
       "Fatih           649.57"
      ]
     },
     "execution_count": 17,
     "metadata": {},
     "output_type": "execute_result"
    }
   ],
   "source": [
    "## Top 10 area/neighbourhood with the highest mean of airBnB room price in Istanbul\n",
    "df_1[['neighbourhood', 'price']].groupby('neighbourhood').mean().round(2).sort_values('price', ascending=False).head(10)"
   ]
  },
  {
   "cell_type": "markdown",
   "metadata": {},
   "source": [
    "Room price in Beykoz, Buyukcemece and Adalar neighbourhoods has substantially higher mean price than mean of the airBnB room price in any other area in Istanbul. Therefore we use Re-Categorize of values in `neighbourhood` column to top 3 neighbourhoods with the highest mean room price, and other areas as Others. "
   ]
  },
  {
   "cell_type": "code",
   "execution_count": 18,
   "metadata": {},
   "outputs": [],
   "source": [
    "## Build function for Re-Categorize\n",
    "def recat_area(x):\n",
    "    if x in ['Beykoz', 'Buyukcekmece', 'Adalar']:\n",
    "        return x\n",
    "    else:\n",
    "        return 'Others'"
   ]
  },
  {
   "cell_type": "code",
   "execution_count": 19,
   "metadata": {},
   "outputs": [
    {
     "data": {
      "text/html": [
       "<div>\n",
       "<style scoped>\n",
       "    .dataframe tbody tr th:only-of-type {\n",
       "        vertical-align: middle;\n",
       "    }\n",
       "\n",
       "    .dataframe tbody tr th {\n",
       "        vertical-align: top;\n",
       "    }\n",
       "\n",
       "    .dataframe thead th {\n",
       "        text-align: right;\n",
       "    }\n",
       "</style>\n",
       "<table border=\"1\" class=\"dataframe\">\n",
       "  <thead>\n",
       "    <tr style=\"text-align: right;\">\n",
       "      <th></th>\n",
       "      <th>neighbourhood</th>\n",
       "      <th>room_type</th>\n",
       "      <th>minimum_nights</th>\n",
       "      <th>number_of_reviews</th>\n",
       "      <th>reviews_per_month</th>\n",
       "      <th>calculated_host_listings_count</th>\n",
       "      <th>availability_365</th>\n",
       "      <th>price</th>\n",
       "    </tr>\n",
       "    <tr>\n",
       "      <th>id</th>\n",
       "      <th></th>\n",
       "      <th></th>\n",
       "      <th></th>\n",
       "      <th></th>\n",
       "      <th></th>\n",
       "      <th></th>\n",
       "      <th></th>\n",
       "      <th></th>\n",
       "    </tr>\n",
       "  </thead>\n",
       "  <tbody>\n",
       "    <tr>\n",
       "      <th>4826</th>\n",
       "      <td>Others</td>\n",
       "      <td>Entire home/apt</td>\n",
       "      <td>1</td>\n",
       "      <td>1</td>\n",
       "      <td>0.01</td>\n",
       "      <td>1</td>\n",
       "      <td>365</td>\n",
       "      <td>720</td>\n",
       "    </tr>\n",
       "    <tr>\n",
       "      <th>20815</th>\n",
       "      <td>Others</td>\n",
       "      <td>Entire home/apt</td>\n",
       "      <td>365</td>\n",
       "      <td>41</td>\n",
       "      <td>0.33</td>\n",
       "      <td>2</td>\n",
       "      <td>279</td>\n",
       "      <td>816</td>\n",
       "    </tr>\n",
       "    <tr>\n",
       "      <th>27271</th>\n",
       "      <td>Others</td>\n",
       "      <td>Entire home/apt</td>\n",
       "      <td>30</td>\n",
       "      <td>13</td>\n",
       "      <td>0.19</td>\n",
       "      <td>1</td>\n",
       "      <td>289</td>\n",
       "      <td>233</td>\n",
       "    </tr>\n",
       "    <tr>\n",
       "      <th>28277</th>\n",
       "      <td>Others</td>\n",
       "      <td>Hotel room</td>\n",
       "      <td>3</td>\n",
       "      <td>0</td>\n",
       "      <td>NaN</td>\n",
       "      <td>19</td>\n",
       "      <td>365</td>\n",
       "      <td>761</td>\n",
       "    </tr>\n",
       "    <tr>\n",
       "      <th>28318</th>\n",
       "      <td>Others</td>\n",
       "      <td>Entire home/apt</td>\n",
       "      <td>3</td>\n",
       "      <td>0</td>\n",
       "      <td>NaN</td>\n",
       "      <td>1</td>\n",
       "      <td>88</td>\n",
       "      <td>823</td>\n",
       "    </tr>\n",
       "  </tbody>\n",
       "</table>\n",
       "</div>"
      ],
      "text/plain": [
       "      neighbourhood        room_type  minimum_nights  number_of_reviews  \\\n",
       "id                                                                        \n",
       "4826         Others  Entire home/apt               1                  1   \n",
       "20815        Others  Entire home/apt             365                 41   \n",
       "27271        Others  Entire home/apt              30                 13   \n",
       "28277        Others       Hotel room               3                  0   \n",
       "28318        Others  Entire home/apt               3                  0   \n",
       "\n",
       "       reviews_per_month  calculated_host_listings_count  availability_365  \\\n",
       "id                                                                           \n",
       "4826                0.01                               1               365   \n",
       "20815               0.33                               2               279   \n",
       "27271               0.19                               1               289   \n",
       "28277                NaN                              19               365   \n",
       "28318                NaN                               1                88   \n",
       "\n",
       "       price  \n",
       "id            \n",
       "4826     720  \n",
       "20815    816  \n",
       "27271    233  \n",
       "28277    761  \n",
       "28318    823  "
      ]
     },
     "execution_count": 19,
     "metadata": {},
     "output_type": "execute_result"
    }
   ],
   "source": [
    "## Run Function\n",
    "df_1['neighbourhood']=df['neighbourhood'].apply(recat_area)\n",
    "## Show Data\n",
    "df_1.head()"
   ]
  },
  {
   "cell_type": "markdown",
   "metadata": {},
   "source": [
    "#### `reviews_per_month`"
   ]
  },
  {
   "cell_type": "code",
   "execution_count": 20,
   "metadata": {},
   "outputs": [
    {
     "data": {
      "text/plain": [
       "neighbourhood                         0\n",
       "room_type                             0\n",
       "minimum_nights                        0\n",
       "number_of_reviews                     0\n",
       "reviews_per_month                 12375\n",
       "calculated_host_listings_count        0\n",
       "availability_365                      0\n",
       "price                                 0\n",
       "dtype: int64"
      ]
     },
     "execution_count": 20,
     "metadata": {},
     "output_type": "execute_result"
    }
   ],
   "source": [
    "## Recheck Missing Value\n",
    "df_1.isna().sum()"
   ]
  },
  {
   "cell_type": "code",
   "execution_count": 21,
   "metadata": {},
   "outputs": [],
   "source": [
    "## Fill Missing Value with 0 as NaN value means no review\n",
    "df_1['reviews_per_month'] = df_1['reviews_per_month'].fillna(0)"
   ]
  },
  {
   "cell_type": "code",
   "execution_count": 22,
   "metadata": {},
   "outputs": [
    {
     "data": {
      "text/plain": [
       "neighbourhood                     0\n",
       "room_type                         0\n",
       "minimum_nights                    0\n",
       "number_of_reviews                 0\n",
       "reviews_per_month                 0\n",
       "calculated_host_listings_count    0\n",
       "availability_365                  0\n",
       "price                             0\n",
       "dtype: int64"
      ]
     },
     "execution_count": 22,
     "metadata": {},
     "output_type": "execute_result"
    }
   ],
   "source": [
    "## Recheck Missing Value\n",
    "df_1.isna().sum()"
   ]
  },
  {
   "cell_type": "markdown",
   "metadata": {},
   "source": [
    "#### Encode `neighbourhood` and `room_type`"
   ]
  },
  {
   "cell_type": "code",
   "execution_count": 23,
   "metadata": {},
   "outputs": [
    {
     "data": {
      "text/html": [
       "<div>\n",
       "<style scoped>\n",
       "    .dataframe tbody tr th:only-of-type {\n",
       "        vertical-align: middle;\n",
       "    }\n",
       "\n",
       "    .dataframe tbody tr th {\n",
       "        vertical-align: top;\n",
       "    }\n",
       "\n",
       "    .dataframe thead th {\n",
       "        text-align: right;\n",
       "    }\n",
       "</style>\n",
       "<table border=\"1\" class=\"dataframe\">\n",
       "  <thead>\n",
       "    <tr style=\"text-align: right;\">\n",
       "      <th></th>\n",
       "      <th>minimum_nights</th>\n",
       "      <th>number_of_reviews</th>\n",
       "      <th>reviews_per_month</th>\n",
       "      <th>calculated_host_listings_count</th>\n",
       "      <th>availability_365</th>\n",
       "      <th>price</th>\n",
       "      <th>neighbourhood_Adalar</th>\n",
       "      <th>neighbourhood_Beykoz</th>\n",
       "      <th>neighbourhood_Buyukcekmece</th>\n",
       "      <th>neighbourhood_Others</th>\n",
       "      <th>room_type_Entire home/apt</th>\n",
       "      <th>room_type_Hotel room</th>\n",
       "      <th>room_type_Private room</th>\n",
       "      <th>room_type_Shared room</th>\n",
       "    </tr>\n",
       "    <tr>\n",
       "      <th>id</th>\n",
       "      <th></th>\n",
       "      <th></th>\n",
       "      <th></th>\n",
       "      <th></th>\n",
       "      <th></th>\n",
       "      <th></th>\n",
       "      <th></th>\n",
       "      <th></th>\n",
       "      <th></th>\n",
       "      <th></th>\n",
       "      <th></th>\n",
       "      <th></th>\n",
       "      <th></th>\n",
       "      <th></th>\n",
       "    </tr>\n",
       "  </thead>\n",
       "  <tbody>\n",
       "    <tr>\n",
       "      <th>4826</th>\n",
       "      <td>1</td>\n",
       "      <td>1</td>\n",
       "      <td>0.01</td>\n",
       "      <td>1</td>\n",
       "      <td>365</td>\n",
       "      <td>720</td>\n",
       "      <td>0</td>\n",
       "      <td>0</td>\n",
       "      <td>0</td>\n",
       "      <td>1</td>\n",
       "      <td>1</td>\n",
       "      <td>0</td>\n",
       "      <td>0</td>\n",
       "      <td>0</td>\n",
       "    </tr>\n",
       "    <tr>\n",
       "      <th>20815</th>\n",
       "      <td>365</td>\n",
       "      <td>41</td>\n",
       "      <td>0.33</td>\n",
       "      <td>2</td>\n",
       "      <td>279</td>\n",
       "      <td>816</td>\n",
       "      <td>0</td>\n",
       "      <td>0</td>\n",
       "      <td>0</td>\n",
       "      <td>1</td>\n",
       "      <td>1</td>\n",
       "      <td>0</td>\n",
       "      <td>0</td>\n",
       "      <td>0</td>\n",
       "    </tr>\n",
       "    <tr>\n",
       "      <th>27271</th>\n",
       "      <td>30</td>\n",
       "      <td>13</td>\n",
       "      <td>0.19</td>\n",
       "      <td>1</td>\n",
       "      <td>289</td>\n",
       "      <td>233</td>\n",
       "      <td>0</td>\n",
       "      <td>0</td>\n",
       "      <td>0</td>\n",
       "      <td>1</td>\n",
       "      <td>1</td>\n",
       "      <td>0</td>\n",
       "      <td>0</td>\n",
       "      <td>0</td>\n",
       "    </tr>\n",
       "    <tr>\n",
       "      <th>28277</th>\n",
       "      <td>3</td>\n",
       "      <td>0</td>\n",
       "      <td>0.00</td>\n",
       "      <td>19</td>\n",
       "      <td>365</td>\n",
       "      <td>761</td>\n",
       "      <td>0</td>\n",
       "      <td>0</td>\n",
       "      <td>0</td>\n",
       "      <td>1</td>\n",
       "      <td>0</td>\n",
       "      <td>1</td>\n",
       "      <td>0</td>\n",
       "      <td>0</td>\n",
       "    </tr>\n",
       "    <tr>\n",
       "      <th>28318</th>\n",
       "      <td>3</td>\n",
       "      <td>0</td>\n",
       "      <td>0.00</td>\n",
       "      <td>1</td>\n",
       "      <td>88</td>\n",
       "      <td>823</td>\n",
       "      <td>0</td>\n",
       "      <td>0</td>\n",
       "      <td>0</td>\n",
       "      <td>1</td>\n",
       "      <td>1</td>\n",
       "      <td>0</td>\n",
       "      <td>0</td>\n",
       "      <td>0</td>\n",
       "    </tr>\n",
       "  </tbody>\n",
       "</table>\n",
       "</div>"
      ],
      "text/plain": [
       "       minimum_nights  number_of_reviews  reviews_per_month  \\\n",
       "id                                                            \n",
       "4826                1                  1               0.01   \n",
       "20815             365                 41               0.33   \n",
       "27271              30                 13               0.19   \n",
       "28277               3                  0               0.00   \n",
       "28318               3                  0               0.00   \n",
       "\n",
       "       calculated_host_listings_count  availability_365  price  \\\n",
       "id                                                               \n",
       "4826                                1               365    720   \n",
       "20815                               2               279    816   \n",
       "27271                               1               289    233   \n",
       "28277                              19               365    761   \n",
       "28318                               1                88    823   \n",
       "\n",
       "       neighbourhood_Adalar  neighbourhood_Beykoz  neighbourhood_Buyukcekmece  \\\n",
       "id                                                                              \n",
       "4826                      0                     0                           0   \n",
       "20815                     0                     0                           0   \n",
       "27271                     0                     0                           0   \n",
       "28277                     0                     0                           0   \n",
       "28318                     0                     0                           0   \n",
       "\n",
       "       neighbourhood_Others  room_type_Entire home/apt  room_type_Hotel room  \\\n",
       "id                                                                             \n",
       "4826                      1                          1                     0   \n",
       "20815                     1                          1                     0   \n",
       "27271                     1                          1                     0   \n",
       "28277                     1                          0                     1   \n",
       "28318                     1                          1                     0   \n",
       "\n",
       "       room_type_Private room  room_type_Shared room  \n",
       "id                                                    \n",
       "4826                        0                      0  \n",
       "20815                       0                      0  \n",
       "27271                       0                      0  \n",
       "28277                       0                      0  \n",
       "28318                       0                      0  "
      ]
     },
     "execution_count": 23,
     "metadata": {},
     "output_type": "execute_result"
    }
   ],
   "source": [
    "## Decode both columns with One-Hot Encoding\n",
    "df_1 = pd.get_dummies(df_1, columns=['neighbourhood', 'room_type'])\n",
    "## Show Data\n",
    "df_1.head()"
   ]
  },
  {
   "cell_type": "markdown",
   "metadata": {},
   "source": [
    "<hr>\n",
    "\n",
    "## 2. Machine Learning Modelling"
   ]
  },
  {
   "cell_type": "markdown",
   "metadata": {},
   "source": [
    "### Splitting Data"
   ]
  },
  {
   "cell_type": "code",
   "execution_count": 24,
   "metadata": {},
   "outputs": [],
   "source": [
    "## Import Package\n",
    "from sklearn.model_selection import train_test_split, GridSearchCV, KFold, RandomizedSearchCV\n",
    "from sklearn.tree import DecisionTreeRegressor\n",
    "from sklearn.ensemble import RandomForestRegressor\n",
    "from sklearn.metrics import r2_score, mean_absolute_error, mean_squared_error\n",
    "from sklearn.neighbors import KNeighborsRegressor\n",
    "from sklearn.svm import SVR"
   ]
  },
  {
   "cell_type": "code",
   "execution_count": 25,
   "metadata": {},
   "outputs": [],
   "source": [
    "## Define Features and Target\n",
    "x = df_1.drop(columns='price')\n",
    "y = df_1['price']"
   ]
  },
  {
   "cell_type": "code",
   "execution_count": 26,
   "metadata": {},
   "outputs": [],
   "source": [
    "## Split Data\n",
    "x_train, x_test, y_train, y_test = train_test_split(x, y, train_size=0.8, random_state=42)"
   ]
  },
  {
   "cell_type": "code",
   "execution_count": 27,
   "metadata": {},
   "outputs": [
    {
     "name": "stdout",
     "output_type": "stream",
     "text": [
      "(18982, 13) (4746, 13)\n"
     ]
    }
   ],
   "source": [
    "## Check shape of features\n",
    "print(x_train.shape, x_test.shape)"
   ]
  },
  {
   "cell_type": "code",
   "execution_count": 28,
   "metadata": {},
   "outputs": [],
   "source": [
    "## Build function to automatically perform Evaluation Matrix scoring\n",
    "def Eva_Matrix(model,x_train, x_test, y_train, y_test, Nama):\n",
    "\n",
    "    Model = model.fit(x_train, y_train)\n",
    "\n",
    "    y_pred_tr = Model.predict(x_train)\n",
    "    R2_train = r2_score(y_train, y_pred_tr)\n",
    "    MAE_train = mean_absolute_error(y_train, y_pred_tr)\n",
    "    MSE_train = mean_squared_error(y_train, y_pred_tr)\n",
    "    RMSE_train = np.sqrt(MSE_train)\n",
    "\n",
    "    y_pred_ts = Model.predict(x_test)\n",
    "    R2_test = r2_score(y_test, y_pred_ts)\n",
    "    MAE_test = mean_absolute_error(y_test, y_pred_ts)\n",
    "    MSE_test = mean_squared_error(y_test, y_pred_ts)\n",
    "    RMSE_test = np.sqrt(MSE_test)\n",
    "\n",
    "    eva_data = {\n",
    "    \"Training \" + Nama : [R2_train, MAE_train, MSE_train, RMSE_train],\n",
    "    \"Testing \" + Nama : [R2_test, MAE_test, MSE_test, RMSE_test],\n",
    "    }\n",
    "    \n",
    "    df = pd.DataFrame(eva_data, index=['R2', 'MAE', 'MSE', 'RMSE']).T.round(2)\n",
    "    \n",
    "    return df"
   ]
  },
  {
   "cell_type": "code",
   "execution_count": 29,
   "metadata": {},
   "outputs": [
    {
     "data": {
      "text/html": [
       "<div>\n",
       "<style scoped>\n",
       "    .dataframe tbody tr th:only-of-type {\n",
       "        vertical-align: middle;\n",
       "    }\n",
       "\n",
       "    .dataframe tbody tr th {\n",
       "        vertical-align: top;\n",
       "    }\n",
       "\n",
       "    .dataframe thead th {\n",
       "        text-align: right;\n",
       "    }\n",
       "</style>\n",
       "<table border=\"1\" class=\"dataframe\">\n",
       "  <thead>\n",
       "    <tr style=\"text-align: right;\">\n",
       "      <th></th>\n",
       "      <th>R2</th>\n",
       "      <th>MAE</th>\n",
       "      <th>MSE</th>\n",
       "      <th>RMSE</th>\n",
       "    </tr>\n",
       "  </thead>\n",
       "  <tbody>\n",
       "    <tr>\n",
       "      <th>Training KNN</th>\n",
       "      <td>0.35</td>\n",
       "      <td>320.65</td>\n",
       "      <td>2449305.46</td>\n",
       "      <td>1565.03</td>\n",
       "    </tr>\n",
       "    <tr>\n",
       "      <th>Testing KNN</th>\n",
       "      <td>0.35</td>\n",
       "      <td>381.12</td>\n",
       "      <td>2912962.90</td>\n",
       "      <td>1706.74</td>\n",
       "    </tr>\n",
       "  </tbody>\n",
       "</table>\n",
       "</div>"
      ],
      "text/plain": [
       "                R2     MAE         MSE     RMSE\n",
       "Training KNN  0.35  320.65  2449305.46  1565.03\n",
       "Testing KNN   0.35  381.12  2912962.90  1706.74"
      ]
     },
     "execution_count": 29,
     "metadata": {},
     "output_type": "execute_result"
    }
   ],
   "source": [
    "## Run Function for Evaluation Matrix scoring for Base KNN Model\n",
    "df_KNN = Eva_Matrix(KNeighborsRegressor(),\n",
    "                    x_train, x_test, y_train, y_test,\n",
    "                    'KNN')\n",
    "df_KNN\n",
    "## Stable but score is not desirable"
   ]
  },
  {
   "cell_type": "code",
   "execution_count": 30,
   "metadata": {},
   "outputs": [
    {
     "data": {
      "text/html": [
       "<div>\n",
       "<style scoped>\n",
       "    .dataframe tbody tr th:only-of-type {\n",
       "        vertical-align: middle;\n",
       "    }\n",
       "\n",
       "    .dataframe tbody tr th {\n",
       "        vertical-align: top;\n",
       "    }\n",
       "\n",
       "    .dataframe thead th {\n",
       "        text-align: right;\n",
       "    }\n",
       "</style>\n",
       "<table border=\"1\" class=\"dataframe\">\n",
       "  <thead>\n",
       "    <tr style=\"text-align: right;\">\n",
       "      <th></th>\n",
       "      <th>R2</th>\n",
       "      <th>MAE</th>\n",
       "      <th>MSE</th>\n",
       "      <th>RMSE</th>\n",
       "    </tr>\n",
       "  </thead>\n",
       "  <tbody>\n",
       "    <tr>\n",
       "      <th>Training SVM</th>\n",
       "      <td>-0.01</td>\n",
       "      <td>333.85</td>\n",
       "      <td>3797766.47</td>\n",
       "      <td>1948.79</td>\n",
       "    </tr>\n",
       "    <tr>\n",
       "      <th>Testing SVM</th>\n",
       "      <td>-0.01</td>\n",
       "      <td>366.08</td>\n",
       "      <td>4538513.14</td>\n",
       "      <td>2130.38</td>\n",
       "    </tr>\n",
       "  </tbody>\n",
       "</table>\n",
       "</div>"
      ],
      "text/plain": [
       "                R2     MAE         MSE     RMSE\n",
       "Training SVM -0.01  333.85  3797766.47  1948.79\n",
       "Testing SVM  -0.01  366.08  4538513.14  2130.38"
      ]
     },
     "execution_count": 30,
     "metadata": {},
     "output_type": "execute_result"
    }
   ],
   "source": [
    "## Run Function for Evaluation Matrix scoring for Base SVR Model\n",
    "df_SVM = Eva_Matrix(SVR(),\n",
    "                    x_train, x_test, y_train, y_test,\n",
    "                    'SVM')\n",
    "df_SVM\n",
    "## Underfit"
   ]
  },
  {
   "cell_type": "code",
   "execution_count": 31,
   "metadata": {},
   "outputs": [
    {
     "data": {
      "text/html": [
       "<div>\n",
       "<style scoped>\n",
       "    .dataframe tbody tr th:only-of-type {\n",
       "        vertical-align: middle;\n",
       "    }\n",
       "\n",
       "    .dataframe tbody tr th {\n",
       "        vertical-align: top;\n",
       "    }\n",
       "\n",
       "    .dataframe thead th {\n",
       "        text-align: right;\n",
       "    }\n",
       "</style>\n",
       "<table border=\"1\" class=\"dataframe\">\n",
       "  <thead>\n",
       "    <tr style=\"text-align: right;\">\n",
       "      <th></th>\n",
       "      <th>R2</th>\n",
       "      <th>MAE</th>\n",
       "      <th>MSE</th>\n",
       "      <th>RMSE</th>\n",
       "    </tr>\n",
       "  </thead>\n",
       "  <tbody>\n",
       "    <tr>\n",
       "      <th>Training DT</th>\n",
       "      <td>0.80</td>\n",
       "      <td>142.87</td>\n",
       "      <td>748219.56</td>\n",
       "      <td>865.00</td>\n",
       "    </tr>\n",
       "    <tr>\n",
       "      <th>Testing DT</th>\n",
       "      <td>0.22</td>\n",
       "      <td>384.23</td>\n",
       "      <td>3510470.90</td>\n",
       "      <td>1873.63</td>\n",
       "    </tr>\n",
       "  </tbody>\n",
       "</table>\n",
       "</div>"
      ],
      "text/plain": [
       "               R2     MAE         MSE     RMSE\n",
       "Training DT  0.80  142.87   748219.56   865.00\n",
       "Testing DT   0.22  384.23  3510470.90  1873.63"
      ]
     },
     "execution_count": 31,
     "metadata": {},
     "output_type": "execute_result"
    }
   ],
   "source": [
    "## Run Function for Evaluation Matrix scoring for Base Decision Tree Model\n",
    "df_DT = Eva_Matrix(DecisionTreeRegressor(),\n",
    "                    x_train, x_test, y_train, y_test,\n",
    "                    'DT')\n",
    "df_DT\n",
    "## Overfit"
   ]
  },
  {
   "cell_type": "code",
   "execution_count": 32,
   "metadata": {},
   "outputs": [
    {
     "data": {
      "text/html": [
       "<div>\n",
       "<style scoped>\n",
       "    .dataframe tbody tr th:only-of-type {\n",
       "        vertical-align: middle;\n",
       "    }\n",
       "\n",
       "    .dataframe tbody tr th {\n",
       "        vertical-align: top;\n",
       "    }\n",
       "\n",
       "    .dataframe thead th {\n",
       "        text-align: right;\n",
       "    }\n",
       "</style>\n",
       "<table border=\"1\" class=\"dataframe\">\n",
       "  <thead>\n",
       "    <tr style=\"text-align: right;\">\n",
       "      <th></th>\n",
       "      <th>R2</th>\n",
       "      <th>MAE</th>\n",
       "      <th>MSE</th>\n",
       "      <th>RMSE</th>\n",
       "    </tr>\n",
       "  </thead>\n",
       "  <tbody>\n",
       "    <tr>\n",
       "      <th>Training RF</th>\n",
       "      <td>0.72</td>\n",
       "      <td>214.24</td>\n",
       "      <td>1042876.94</td>\n",
       "      <td>1021.21</td>\n",
       "    </tr>\n",
       "    <tr>\n",
       "      <th>Testing RF</th>\n",
       "      <td>0.25</td>\n",
       "      <td>361.19</td>\n",
       "      <td>3376943.90</td>\n",
       "      <td>1837.65</td>\n",
       "    </tr>\n",
       "  </tbody>\n",
       "</table>\n",
       "</div>"
      ],
      "text/plain": [
       "               R2     MAE         MSE     RMSE\n",
       "Training RF  0.72  214.24  1042876.94  1021.21\n",
       "Testing RF   0.25  361.19  3376943.90  1837.65"
      ]
     },
     "execution_count": 32,
     "metadata": {},
     "output_type": "execute_result"
    }
   ],
   "source": [
    "## Run Function for Evaluation Matrix scoring for Base Decision Tree Model\n",
    "df_RF = Eva_Matrix(RandomForestRegressor(),\n",
    "                    x_train, x_test, y_train, y_test,\n",
    "                    'RF')\n",
    "df_RF\n",
    "## Overfit"
   ]
  },
  {
   "cell_type": "markdown",
   "metadata": {},
   "source": [
    "In summary, Base Model with KNN and SVM produce stable models, but score are not desirable. In the other hand, Decision Tree and Random Forest produce good training result but low score for testing set (overfit). No single Model show good score in this Base Model, therefore we need do further improvement by tuning."
   ]
  },
  {
   "cell_type": "markdown",
   "metadata": {},
   "source": [
    "<hr>\n",
    "\n",
    "## 3. Tuning with GridSearch"
   ]
  },
  {
   "cell_type": "markdown",
   "metadata": {},
   "source": [
    "### KNN"
   ]
  },
  {
   "cell_type": "code",
   "execution_count": 33,
   "metadata": {},
   "outputs": [],
   "source": [
    "## Define parameter\n",
    "param_KNN = {\n",
    "    'n_neighbors' : range(1, 51, 2),\n",
    "    'weights' : ['uniform', 'distance'],\n",
    "    'p' : [1,2]\n",
    "}"
   ]
  },
  {
   "cell_type": "code",
   "execution_count": 34,
   "metadata": {},
   "outputs": [
    {
     "name": "stdout",
     "output_type": "stream",
     "text": [
      "Fitting 4 folds for each of 100 candidates, totalling 400 fits\n"
     ]
    },
    {
     "data": {
      "text/html": [
       "<style>#sk-container-id-1 {color: black;background-color: white;}#sk-container-id-1 pre{padding: 0;}#sk-container-id-1 div.sk-toggleable {background-color: white;}#sk-container-id-1 label.sk-toggleable__label {cursor: pointer;display: block;width: 100%;margin-bottom: 0;padding: 0.3em;box-sizing: border-box;text-align: center;}#sk-container-id-1 label.sk-toggleable__label-arrow:before {content: \"▸\";float: left;margin-right: 0.25em;color: #696969;}#sk-container-id-1 label.sk-toggleable__label-arrow:hover:before {color: black;}#sk-container-id-1 div.sk-estimator:hover label.sk-toggleable__label-arrow:before {color: black;}#sk-container-id-1 div.sk-toggleable__content {max-height: 0;max-width: 0;overflow: hidden;text-align: left;background-color: #f0f8ff;}#sk-container-id-1 div.sk-toggleable__content pre {margin: 0.2em;color: black;border-radius: 0.25em;background-color: #f0f8ff;}#sk-container-id-1 input.sk-toggleable__control:checked~div.sk-toggleable__content {max-height: 200px;max-width: 100%;overflow: auto;}#sk-container-id-1 input.sk-toggleable__control:checked~label.sk-toggleable__label-arrow:before {content: \"▾\";}#sk-container-id-1 div.sk-estimator input.sk-toggleable__control:checked~label.sk-toggleable__label {background-color: #d4ebff;}#sk-container-id-1 div.sk-label input.sk-toggleable__control:checked~label.sk-toggleable__label {background-color: #d4ebff;}#sk-container-id-1 input.sk-hidden--visually {border: 0;clip: rect(1px 1px 1px 1px);clip: rect(1px, 1px, 1px, 1px);height: 1px;margin: -1px;overflow: hidden;padding: 0;position: absolute;width: 1px;}#sk-container-id-1 div.sk-estimator {font-family: monospace;background-color: #f0f8ff;border: 1px dotted black;border-radius: 0.25em;box-sizing: border-box;margin-bottom: 0.5em;}#sk-container-id-1 div.sk-estimator:hover {background-color: #d4ebff;}#sk-container-id-1 div.sk-parallel-item::after {content: \"\";width: 100%;border-bottom: 1px solid gray;flex-grow: 1;}#sk-container-id-1 div.sk-label:hover label.sk-toggleable__label {background-color: #d4ebff;}#sk-container-id-1 div.sk-serial::before {content: \"\";position: absolute;border-left: 1px solid gray;box-sizing: border-box;top: 0;bottom: 0;left: 50%;z-index: 0;}#sk-container-id-1 div.sk-serial {display: flex;flex-direction: column;align-items: center;background-color: white;padding-right: 0.2em;padding-left: 0.2em;position: relative;}#sk-container-id-1 div.sk-item {position: relative;z-index: 1;}#sk-container-id-1 div.sk-parallel {display: flex;align-items: stretch;justify-content: center;background-color: white;position: relative;}#sk-container-id-1 div.sk-item::before, #sk-container-id-1 div.sk-parallel-item::before {content: \"\";position: absolute;border-left: 1px solid gray;box-sizing: border-box;top: 0;bottom: 0;left: 50%;z-index: -1;}#sk-container-id-1 div.sk-parallel-item {display: flex;flex-direction: column;z-index: 1;position: relative;background-color: white;}#sk-container-id-1 div.sk-parallel-item:first-child::after {align-self: flex-end;width: 50%;}#sk-container-id-1 div.sk-parallel-item:last-child::after {align-self: flex-start;width: 50%;}#sk-container-id-1 div.sk-parallel-item:only-child::after {width: 0;}#sk-container-id-1 div.sk-dashed-wrapped {border: 1px dashed gray;margin: 0 0.4em 0.5em 0.4em;box-sizing: border-box;padding-bottom: 0.4em;background-color: white;}#sk-container-id-1 div.sk-label label {font-family: monospace;font-weight: bold;display: inline-block;line-height: 1.2em;}#sk-container-id-1 div.sk-label-container {text-align: center;}#sk-container-id-1 div.sk-container {/* jupyter's `normalize.less` sets `[hidden] { display: none; }` but bootstrap.min.css set `[hidden] { display: none !important; }` so we also need the `!important` here to be able to override the default hidden behavior on the sphinx rendered scikit-learn.org. See: https://github.com/scikit-learn/scikit-learn/issues/21755 */display: inline-block !important;position: relative;}#sk-container-id-1 div.sk-text-repr-fallback {display: none;}</style><div id=\"sk-container-id-1\" class=\"sk-top-container\"><div class=\"sk-text-repr-fallback\"><pre>GridSearchCV(cv=KFold(n_splits=4, random_state=None, shuffle=False),\n",
       "             estimator=KNeighborsRegressor(), n_jobs=-1,\n",
       "             param_grid={&#x27;n_neighbors&#x27;: range(1, 51, 2), &#x27;p&#x27;: [1, 2],\n",
       "                         &#x27;weights&#x27;: [&#x27;uniform&#x27;, &#x27;distance&#x27;]},\n",
       "             scoring=&#x27;r2&#x27;, verbose=1)</pre><b>In a Jupyter environment, please rerun this cell to show the HTML representation or trust the notebook. <br />On GitHub, the HTML representation is unable to render, please try loading this page with nbviewer.org.</b></div><div class=\"sk-container\" hidden><div class=\"sk-item sk-dashed-wrapped\"><div class=\"sk-label-container\"><div class=\"sk-label sk-toggleable\"><input class=\"sk-toggleable__control sk-hidden--visually\" id=\"sk-estimator-id-1\" type=\"checkbox\" ><label for=\"sk-estimator-id-1\" class=\"sk-toggleable__label sk-toggleable__label-arrow\">GridSearchCV</label><div class=\"sk-toggleable__content\"><pre>GridSearchCV(cv=KFold(n_splits=4, random_state=None, shuffle=False),\n",
       "             estimator=KNeighborsRegressor(), n_jobs=-1,\n",
       "             param_grid={&#x27;n_neighbors&#x27;: range(1, 51, 2), &#x27;p&#x27;: [1, 2],\n",
       "                         &#x27;weights&#x27;: [&#x27;uniform&#x27;, &#x27;distance&#x27;]},\n",
       "             scoring=&#x27;r2&#x27;, verbose=1)</pre></div></div></div><div class=\"sk-parallel\"><div class=\"sk-parallel-item\"><div class=\"sk-item\"><div class=\"sk-label-container\"><div class=\"sk-label sk-toggleable\"><input class=\"sk-toggleable__control sk-hidden--visually\" id=\"sk-estimator-id-2\" type=\"checkbox\" ><label for=\"sk-estimator-id-2\" class=\"sk-toggleable__label sk-toggleable__label-arrow\">estimator: KNeighborsRegressor</label><div class=\"sk-toggleable__content\"><pre>KNeighborsRegressor()</pre></div></div></div><div class=\"sk-serial\"><div class=\"sk-item\"><div class=\"sk-estimator sk-toggleable\"><input class=\"sk-toggleable__control sk-hidden--visually\" id=\"sk-estimator-id-3\" type=\"checkbox\" ><label for=\"sk-estimator-id-3\" class=\"sk-toggleable__label sk-toggleable__label-arrow\">KNeighborsRegressor</label><div class=\"sk-toggleable__content\"><pre>KNeighborsRegressor()</pre></div></div></div></div></div></div></div></div></div></div>"
      ],
      "text/plain": [
       "GridSearchCV(cv=KFold(n_splits=4, random_state=None, shuffle=False),\n",
       "             estimator=KNeighborsRegressor(), n_jobs=-1,\n",
       "             param_grid={'n_neighbors': range(1, 51, 2), 'p': [1, 2],\n",
       "                         'weights': ['uniform', 'distance']},\n",
       "             scoring='r2', verbose=1)"
      ]
     },
     "execution_count": 34,
     "metadata": {},
     "output_type": "execute_result"
    }
   ],
   "source": [
    "## Run GridSearch\n",
    "KNN_GS = GridSearchCV(KNeighborsRegressor(),\n",
    "                        param_KNN,\n",
    "                        cv = KFold(n_splits=4), \n",
    "                        n_jobs = -1,\n",
    "                        verbose = 1,\n",
    "                        scoring = 'r2')\n",
    "                        \n",
    "## Fit Model\n",
    "KNN_GS.fit(x_train,y_train)"
   ]
  },
  {
   "cell_type": "code",
   "execution_count": 35,
   "metadata": {},
   "outputs": [
    {
     "name": "stdout",
     "output_type": "stream",
     "text": [
      "Best Tuning Score :  0.07436060150546539\n",
      "Best params :  {'n_neighbors': 27, 'p': 1, 'weights': 'uniform'}\n"
     ]
    }
   ],
   "source": [
    "## Define Best R-Squared Score and Best Combination\n",
    "print('Best Tuning Score : ', KNN_GS.best_score_)\n",
    "print('Best params : ', KNN_GS.best_params_)\n",
    "## Add into variable for next testing\n",
    "KNN_Tuned = KNN_GS.best_estimator_"
   ]
  },
  {
   "cell_type": "code",
   "execution_count": 36,
   "metadata": {},
   "outputs": [
    {
     "data": {
      "text/html": [
       "<div>\n",
       "<style scoped>\n",
       "    .dataframe tbody tr th:only-of-type {\n",
       "        vertical-align: middle;\n",
       "    }\n",
       "\n",
       "    .dataframe tbody tr th {\n",
       "        vertical-align: top;\n",
       "    }\n",
       "\n",
       "    .dataframe thead th {\n",
       "        text-align: right;\n",
       "    }\n",
       "</style>\n",
       "<table border=\"1\" class=\"dataframe\">\n",
       "  <thead>\n",
       "    <tr style=\"text-align: right;\">\n",
       "      <th></th>\n",
       "      <th>R2</th>\n",
       "      <th>MAE</th>\n",
       "      <th>MSE</th>\n",
       "      <th>RMSE</th>\n",
       "    </tr>\n",
       "  </thead>\n",
       "  <tbody>\n",
       "    <tr>\n",
       "      <th>Training KNN Tuned</th>\n",
       "      <td>0.14</td>\n",
       "      <td>357.81</td>\n",
       "      <td>3225771.48</td>\n",
       "      <td>1796.04</td>\n",
       "    </tr>\n",
       "    <tr>\n",
       "      <th>Testing KNN Tuned</th>\n",
       "      <td>0.13</td>\n",
       "      <td>401.48</td>\n",
       "      <td>3889277.36</td>\n",
       "      <td>1972.13</td>\n",
       "    </tr>\n",
       "  </tbody>\n",
       "</table>\n",
       "</div>"
      ],
      "text/plain": [
       "                      R2     MAE         MSE     RMSE\n",
       "Training KNN Tuned  0.14  357.81  3225771.48  1796.04\n",
       "Testing KNN Tuned   0.13  401.48  3889277.36  1972.13"
      ]
     },
     "execution_count": 36,
     "metadata": {},
     "output_type": "execute_result"
    }
   ],
   "source": [
    "## Run Function for Evaluation Matrix scoring for KNN Model after Tuning\n",
    "df_KNN_Tuned = Eva_Matrix(KNN_Tuned,\n",
    "                    x_train, x_test, y_train, y_test,\n",
    "                    'KNN Tuned')\n",
    "df_KNN_Tuned\n",
    "## Underfit"
   ]
  },
  {
   "cell_type": "markdown",
   "metadata": {},
   "source": [
    "### SVM"
   ]
  },
  {
   "cell_type": "code",
   "execution_count": 37,
   "metadata": {},
   "outputs": [],
   "source": [
    "## Define Parameter\n",
    "param_SVM = {\n",
    "    'C' : np.logspace(-3, 3, 7),\n",
    "    'gamma' : np.arange(0 ,5 ,0.1)\n",
    "}"
   ]
  },
  {
   "cell_type": "code",
   "execution_count": 38,
   "metadata": {},
   "outputs": [
    {
     "name": "stdout",
     "output_type": "stream",
     "text": [
      "Fitting 4 folds for each of 350 candidates, totalling 1400 fits\n"
     ]
    },
    {
     "data": {
      "text/html": [
       "<style>#sk-container-id-2 {color: black;background-color: white;}#sk-container-id-2 pre{padding: 0;}#sk-container-id-2 div.sk-toggleable {background-color: white;}#sk-container-id-2 label.sk-toggleable__label {cursor: pointer;display: block;width: 100%;margin-bottom: 0;padding: 0.3em;box-sizing: border-box;text-align: center;}#sk-container-id-2 label.sk-toggleable__label-arrow:before {content: \"▸\";float: left;margin-right: 0.25em;color: #696969;}#sk-container-id-2 label.sk-toggleable__label-arrow:hover:before {color: black;}#sk-container-id-2 div.sk-estimator:hover label.sk-toggleable__label-arrow:before {color: black;}#sk-container-id-2 div.sk-toggleable__content {max-height: 0;max-width: 0;overflow: hidden;text-align: left;background-color: #f0f8ff;}#sk-container-id-2 div.sk-toggleable__content pre {margin: 0.2em;color: black;border-radius: 0.25em;background-color: #f0f8ff;}#sk-container-id-2 input.sk-toggleable__control:checked~div.sk-toggleable__content {max-height: 200px;max-width: 100%;overflow: auto;}#sk-container-id-2 input.sk-toggleable__control:checked~label.sk-toggleable__label-arrow:before {content: \"▾\";}#sk-container-id-2 div.sk-estimator input.sk-toggleable__control:checked~label.sk-toggleable__label {background-color: #d4ebff;}#sk-container-id-2 div.sk-label input.sk-toggleable__control:checked~label.sk-toggleable__label {background-color: #d4ebff;}#sk-container-id-2 input.sk-hidden--visually {border: 0;clip: rect(1px 1px 1px 1px);clip: rect(1px, 1px, 1px, 1px);height: 1px;margin: -1px;overflow: hidden;padding: 0;position: absolute;width: 1px;}#sk-container-id-2 div.sk-estimator {font-family: monospace;background-color: #f0f8ff;border: 1px dotted black;border-radius: 0.25em;box-sizing: border-box;margin-bottom: 0.5em;}#sk-container-id-2 div.sk-estimator:hover {background-color: #d4ebff;}#sk-container-id-2 div.sk-parallel-item::after {content: \"\";width: 100%;border-bottom: 1px solid gray;flex-grow: 1;}#sk-container-id-2 div.sk-label:hover label.sk-toggleable__label {background-color: #d4ebff;}#sk-container-id-2 div.sk-serial::before {content: \"\";position: absolute;border-left: 1px solid gray;box-sizing: border-box;top: 0;bottom: 0;left: 50%;z-index: 0;}#sk-container-id-2 div.sk-serial {display: flex;flex-direction: column;align-items: center;background-color: white;padding-right: 0.2em;padding-left: 0.2em;position: relative;}#sk-container-id-2 div.sk-item {position: relative;z-index: 1;}#sk-container-id-2 div.sk-parallel {display: flex;align-items: stretch;justify-content: center;background-color: white;position: relative;}#sk-container-id-2 div.sk-item::before, #sk-container-id-2 div.sk-parallel-item::before {content: \"\";position: absolute;border-left: 1px solid gray;box-sizing: border-box;top: 0;bottom: 0;left: 50%;z-index: -1;}#sk-container-id-2 div.sk-parallel-item {display: flex;flex-direction: column;z-index: 1;position: relative;background-color: white;}#sk-container-id-2 div.sk-parallel-item:first-child::after {align-self: flex-end;width: 50%;}#sk-container-id-2 div.sk-parallel-item:last-child::after {align-self: flex-start;width: 50%;}#sk-container-id-2 div.sk-parallel-item:only-child::after {width: 0;}#sk-container-id-2 div.sk-dashed-wrapped {border: 1px dashed gray;margin: 0 0.4em 0.5em 0.4em;box-sizing: border-box;padding-bottom: 0.4em;background-color: white;}#sk-container-id-2 div.sk-label label {font-family: monospace;font-weight: bold;display: inline-block;line-height: 1.2em;}#sk-container-id-2 div.sk-label-container {text-align: center;}#sk-container-id-2 div.sk-container {/* jupyter's `normalize.less` sets `[hidden] { display: none; }` but bootstrap.min.css set `[hidden] { display: none !important; }` so we also need the `!important` here to be able to override the default hidden behavior on the sphinx rendered scikit-learn.org. See: https://github.com/scikit-learn/scikit-learn/issues/21755 */display: inline-block !important;position: relative;}#sk-container-id-2 div.sk-text-repr-fallback {display: none;}</style><div id=\"sk-container-id-2\" class=\"sk-top-container\"><div class=\"sk-text-repr-fallback\"><pre>GridSearchCV(cv=KFold(n_splits=4, random_state=None, shuffle=False),\n",
       "             estimator=SVR(max_iter=300), n_jobs=-1,\n",
       "             param_grid={&#x27;C&#x27;: array([1.e-03, 1.e-02, 1.e-01, 1.e+00, 1.e+01, 1.e+02, 1.e+03]),\n",
       "                         &#x27;gamma&#x27;: array([0. , 0.1, 0.2, 0.3, 0.4, 0.5, 0.6, 0.7, 0.8, 0.9, 1. , 1.1, 1.2,\n",
       "       1.3, 1.4, 1.5, 1.6, 1.7, 1.8, 1.9, 2. , 2.1, 2.2, 2.3, 2.4, 2.5,\n",
       "       2.6, 2.7, 2.8, 2.9, 3. , 3.1, 3.2, 3.3, 3.4, 3.5, 3.6, 3.7, 3.8,\n",
       "       3.9, 4. , 4.1, 4.2, 4.3, 4.4, 4.5, 4.6, 4.7, 4.8, 4.9])},\n",
       "             scoring=&#x27;r2&#x27;, verbose=1)</pre><b>In a Jupyter environment, please rerun this cell to show the HTML representation or trust the notebook. <br />On GitHub, the HTML representation is unable to render, please try loading this page with nbviewer.org.</b></div><div class=\"sk-container\" hidden><div class=\"sk-item sk-dashed-wrapped\"><div class=\"sk-label-container\"><div class=\"sk-label sk-toggleable\"><input class=\"sk-toggleable__control sk-hidden--visually\" id=\"sk-estimator-id-4\" type=\"checkbox\" ><label for=\"sk-estimator-id-4\" class=\"sk-toggleable__label sk-toggleable__label-arrow\">GridSearchCV</label><div class=\"sk-toggleable__content\"><pre>GridSearchCV(cv=KFold(n_splits=4, random_state=None, shuffle=False),\n",
       "             estimator=SVR(max_iter=300), n_jobs=-1,\n",
       "             param_grid={&#x27;C&#x27;: array([1.e-03, 1.e-02, 1.e-01, 1.e+00, 1.e+01, 1.e+02, 1.e+03]),\n",
       "                         &#x27;gamma&#x27;: array([0. , 0.1, 0.2, 0.3, 0.4, 0.5, 0.6, 0.7, 0.8, 0.9, 1. , 1.1, 1.2,\n",
       "       1.3, 1.4, 1.5, 1.6, 1.7, 1.8, 1.9, 2. , 2.1, 2.2, 2.3, 2.4, 2.5,\n",
       "       2.6, 2.7, 2.8, 2.9, 3. , 3.1, 3.2, 3.3, 3.4, 3.5, 3.6, 3.7, 3.8,\n",
       "       3.9, 4. , 4.1, 4.2, 4.3, 4.4, 4.5, 4.6, 4.7, 4.8, 4.9])},\n",
       "             scoring=&#x27;r2&#x27;, verbose=1)</pre></div></div></div><div class=\"sk-parallel\"><div class=\"sk-parallel-item\"><div class=\"sk-item\"><div class=\"sk-label-container\"><div class=\"sk-label sk-toggleable\"><input class=\"sk-toggleable__control sk-hidden--visually\" id=\"sk-estimator-id-5\" type=\"checkbox\" ><label for=\"sk-estimator-id-5\" class=\"sk-toggleable__label sk-toggleable__label-arrow\">estimator: SVR</label><div class=\"sk-toggleable__content\"><pre>SVR(max_iter=300)</pre></div></div></div><div class=\"sk-serial\"><div class=\"sk-item\"><div class=\"sk-estimator sk-toggleable\"><input class=\"sk-toggleable__control sk-hidden--visually\" id=\"sk-estimator-id-6\" type=\"checkbox\" ><label for=\"sk-estimator-id-6\" class=\"sk-toggleable__label sk-toggleable__label-arrow\">SVR</label><div class=\"sk-toggleable__content\"><pre>SVR(max_iter=300)</pre></div></div></div></div></div></div></div></div></div></div>"
      ],
      "text/plain": [
       "GridSearchCV(cv=KFold(n_splits=4, random_state=None, shuffle=False),\n",
       "             estimator=SVR(max_iter=300), n_jobs=-1,\n",
       "             param_grid={'C': array([1.e-03, 1.e-02, 1.e-01, 1.e+00, 1.e+01, 1.e+02, 1.e+03]),\n",
       "                         'gamma': array([0. , 0.1, 0.2, 0.3, 0.4, 0.5, 0.6, 0.7, 0.8, 0.9, 1. , 1.1, 1.2,\n",
       "       1.3, 1.4, 1.5, 1.6, 1.7, 1.8, 1.9, 2. , 2.1, 2.2, 2.3, 2.4, 2.5,\n",
       "       2.6, 2.7, 2.8, 2.9, 3. , 3.1, 3.2, 3.3, 3.4, 3.5, 3.6, 3.7, 3.8,\n",
       "       3.9, 4. , 4.1, 4.2, 4.3, 4.4, 4.5, 4.6, 4.7, 4.8, 4.9])},\n",
       "             scoring='r2', verbose=1)"
      ]
     },
     "execution_count": 38,
     "metadata": {},
     "output_type": "execute_result"
    }
   ],
   "source": [
    "## Run GridSearch\n",
    "SVM_GS = GridSearchCV(SVR(max_iter=300),\n",
    "                        param_SVM,\n",
    "                        cv = KFold(n_splits=4), \n",
    "                        n_jobs = -1,\n",
    "                        verbose = 1,\n",
    "                        scoring = 'r2')\n",
    "                        \n",
    "## Fit Model\n",
    "SVM_GS.fit(x_train,y_train)"
   ]
  },
  {
   "cell_type": "code",
   "execution_count": 39,
   "metadata": {},
   "outputs": [
    {
     "name": "stdout",
     "output_type": "stream",
     "text": [
      "Best Tuning Score :  -0.017421827808855928\n",
      "Best params :  {'C': 1000.0, 'gamma': 0.1}\n"
     ]
    }
   ],
   "source": [
    "## Define Best R-Squared Score and Best Combination\n",
    "print('Best Tuning Score : ', SVM_GS.best_score_)\n",
    "print('Best params : ', SVM_GS.best_params_)\n",
    "## Add into variable for next testing\n",
    "SVM_Tuned = SVM_GS.best_estimator_"
   ]
  },
  {
   "cell_type": "code",
   "execution_count": 40,
   "metadata": {},
   "outputs": [
    {
     "data": {
      "text/html": [
       "<div>\n",
       "<style scoped>\n",
       "    .dataframe tbody tr th:only-of-type {\n",
       "        vertical-align: middle;\n",
       "    }\n",
       "\n",
       "    .dataframe tbody tr th {\n",
       "        vertical-align: top;\n",
       "    }\n",
       "\n",
       "    .dataframe thead th {\n",
       "        text-align: right;\n",
       "    }\n",
       "</style>\n",
       "<table border=\"1\" class=\"dataframe\">\n",
       "  <thead>\n",
       "    <tr style=\"text-align: right;\">\n",
       "      <th></th>\n",
       "      <th>R2</th>\n",
       "      <th>MAE</th>\n",
       "      <th>MSE</th>\n",
       "      <th>RMSE</th>\n",
       "    </tr>\n",
       "  </thead>\n",
       "  <tbody>\n",
       "    <tr>\n",
       "      <th>Training SVM Tuned</th>\n",
       "      <td>-0.06</td>\n",
       "      <td>854.75</td>\n",
       "      <td>3983389.21</td>\n",
       "      <td>1995.84</td>\n",
       "    </tr>\n",
       "    <tr>\n",
       "      <th>Testing SVM Tuned</th>\n",
       "      <td>-0.05</td>\n",
       "      <td>887.81</td>\n",
       "      <td>4723813.27</td>\n",
       "      <td>2173.43</td>\n",
       "    </tr>\n",
       "  </tbody>\n",
       "</table>\n",
       "</div>"
      ],
      "text/plain": [
       "                      R2     MAE         MSE     RMSE\n",
       "Training SVM Tuned -0.06  854.75  3983389.21  1995.84\n",
       "Testing SVM Tuned  -0.05  887.81  4723813.27  2173.43"
      ]
     },
     "execution_count": 40,
     "metadata": {},
     "output_type": "execute_result"
    }
   ],
   "source": [
    "## Run Function for Evaluation Matrix scoring for SVM Model after Tuning\n",
    "df_SVM_Tuned = Eva_Matrix(SVM_Tuned,\n",
    "                    x_train, x_test, y_train, y_test,\n",
    "                    'SVM Tuned')\n",
    "df_SVM_Tuned\n",
    "## Underfit"
   ]
  },
  {
   "cell_type": "markdown",
   "metadata": {},
   "source": [
    "### Decision Tree"
   ]
  },
  {
   "cell_type": "code",
   "execution_count": 41,
   "metadata": {},
   "outputs": [],
   "source": [
    "## Define Parameter\n",
    "param_DT = {\n",
    "    'max_depth' : np.arange(1, 20), ## 19 values\n",
    "    'min_samples_split' : np.arange(2, 20), ## 18 values\n",
    "    'min_samples_leaf' : np.arange(1, 20), ## 19 values\n",
    "    'max_features' : np.arange(0.1, 1, 0.1) ## 9 values\n",
    "}"
   ]
  },
  {
   "cell_type": "markdown",
   "metadata": {},
   "source": [
    "** `RANDOMIZED SEARCH`** vs Grid Search\n",
    "- Use Randomized Search if data are overwhelmingly huge\n",
    "- Use Randomized Search if Algorithm has many hyper parameters\n",
    "- GridSearch guaranteed best score from every possible combination, while Randomized Search didn't\n",
    "- Computation for GridSearch is heavy because every combination must be tested, while Randomized Search randomly choose total of combination desired by user from every possible combination\n",
    "- Fine Tuning on GridSearch perform by changing range of hyperparameter, while in Randomized Search we can change number of Iteration and change the range of hyperparameter at the same time.\n"
   ]
  },
  {
   "cell_type": "code",
   "execution_count": 42,
   "metadata": {},
   "outputs": [
    {
     "data": {
      "text/plain": [
       "233928"
      ]
     },
     "execution_count": 42,
     "metadata": {},
     "output_type": "execute_result"
    }
   ],
   "source": [
    "19 * 18 * 19 * 9 * 4\n",
    "# max depth\n",
    "# min samples split\n",
    "# min sample leaf\n",
    "# max features\n",
    "# kfold"
   ]
  },
  {
   "cell_type": "markdown",
   "metadata": {},
   "source": [
    "If we use GridSearch for this computation, Machine will run 233,928 combinations and will put a lot of load to computer's processor. Meanwhile when using Randomized Search, we can determine how much iteration (samples) from the total combination, randomly, to be computed by computer."
   ]
  },
  {
   "cell_type": "code",
   "execution_count": 43,
   "metadata": {},
   "outputs": [
    {
     "name": "stdout",
     "output_type": "stream",
     "text": [
      "Fitting 4 folds for each of 200 candidates, totalling 800 fits\n"
     ]
    },
    {
     "data": {
      "text/html": [
       "<style>#sk-container-id-3 {color: black;background-color: white;}#sk-container-id-3 pre{padding: 0;}#sk-container-id-3 div.sk-toggleable {background-color: white;}#sk-container-id-3 label.sk-toggleable__label {cursor: pointer;display: block;width: 100%;margin-bottom: 0;padding: 0.3em;box-sizing: border-box;text-align: center;}#sk-container-id-3 label.sk-toggleable__label-arrow:before {content: \"▸\";float: left;margin-right: 0.25em;color: #696969;}#sk-container-id-3 label.sk-toggleable__label-arrow:hover:before {color: black;}#sk-container-id-3 div.sk-estimator:hover label.sk-toggleable__label-arrow:before {color: black;}#sk-container-id-3 div.sk-toggleable__content {max-height: 0;max-width: 0;overflow: hidden;text-align: left;background-color: #f0f8ff;}#sk-container-id-3 div.sk-toggleable__content pre {margin: 0.2em;color: black;border-radius: 0.25em;background-color: #f0f8ff;}#sk-container-id-3 input.sk-toggleable__control:checked~div.sk-toggleable__content {max-height: 200px;max-width: 100%;overflow: auto;}#sk-container-id-3 input.sk-toggleable__control:checked~label.sk-toggleable__label-arrow:before {content: \"▾\";}#sk-container-id-3 div.sk-estimator input.sk-toggleable__control:checked~label.sk-toggleable__label {background-color: #d4ebff;}#sk-container-id-3 div.sk-label input.sk-toggleable__control:checked~label.sk-toggleable__label {background-color: #d4ebff;}#sk-container-id-3 input.sk-hidden--visually {border: 0;clip: rect(1px 1px 1px 1px);clip: rect(1px, 1px, 1px, 1px);height: 1px;margin: -1px;overflow: hidden;padding: 0;position: absolute;width: 1px;}#sk-container-id-3 div.sk-estimator {font-family: monospace;background-color: #f0f8ff;border: 1px dotted black;border-radius: 0.25em;box-sizing: border-box;margin-bottom: 0.5em;}#sk-container-id-3 div.sk-estimator:hover {background-color: #d4ebff;}#sk-container-id-3 div.sk-parallel-item::after {content: \"\";width: 100%;border-bottom: 1px solid gray;flex-grow: 1;}#sk-container-id-3 div.sk-label:hover label.sk-toggleable__label {background-color: #d4ebff;}#sk-container-id-3 div.sk-serial::before {content: \"\";position: absolute;border-left: 1px solid gray;box-sizing: border-box;top: 0;bottom: 0;left: 50%;z-index: 0;}#sk-container-id-3 div.sk-serial {display: flex;flex-direction: column;align-items: center;background-color: white;padding-right: 0.2em;padding-left: 0.2em;position: relative;}#sk-container-id-3 div.sk-item {position: relative;z-index: 1;}#sk-container-id-3 div.sk-parallel {display: flex;align-items: stretch;justify-content: center;background-color: white;position: relative;}#sk-container-id-3 div.sk-item::before, #sk-container-id-3 div.sk-parallel-item::before {content: \"\";position: absolute;border-left: 1px solid gray;box-sizing: border-box;top: 0;bottom: 0;left: 50%;z-index: -1;}#sk-container-id-3 div.sk-parallel-item {display: flex;flex-direction: column;z-index: 1;position: relative;background-color: white;}#sk-container-id-3 div.sk-parallel-item:first-child::after {align-self: flex-end;width: 50%;}#sk-container-id-3 div.sk-parallel-item:last-child::after {align-self: flex-start;width: 50%;}#sk-container-id-3 div.sk-parallel-item:only-child::after {width: 0;}#sk-container-id-3 div.sk-dashed-wrapped {border: 1px dashed gray;margin: 0 0.4em 0.5em 0.4em;box-sizing: border-box;padding-bottom: 0.4em;background-color: white;}#sk-container-id-3 div.sk-label label {font-family: monospace;font-weight: bold;display: inline-block;line-height: 1.2em;}#sk-container-id-3 div.sk-label-container {text-align: center;}#sk-container-id-3 div.sk-container {/* jupyter's `normalize.less` sets `[hidden] { display: none; }` but bootstrap.min.css set `[hidden] { display: none !important; }` so we also need the `!important` here to be able to override the default hidden behavior on the sphinx rendered scikit-learn.org. See: https://github.com/scikit-learn/scikit-learn/issues/21755 */display: inline-block !important;position: relative;}#sk-container-id-3 div.sk-text-repr-fallback {display: none;}</style><div id=\"sk-container-id-3\" class=\"sk-top-container\"><div class=\"sk-text-repr-fallback\"><pre>RandomizedSearchCV(cv=KFold(n_splits=4, random_state=None, shuffle=False),\n",
       "                   estimator=DecisionTreeRegressor(), n_iter=200, n_jobs=-1,\n",
       "                   param_distributions={&#x27;max_depth&#x27;: array([ 1,  2,  3,  4,  5,  6,  7,  8,  9, 10, 11, 12, 13, 14, 15, 16, 17,\n",
       "       18, 19]),\n",
       "                                        &#x27;max_features&#x27;: array([0.1, 0.2, 0.3, 0.4, 0.5, 0.6, 0.7, 0.8, 0.9]),\n",
       "                                        &#x27;min_samples_leaf&#x27;: array([ 1,  2,  3,  4,  5,  6,  7,  8,  9, 10, 11, 12, 13, 14, 15, 16, 17,\n",
       "       18, 19]),\n",
       "                                        &#x27;min_samples_split&#x27;: array([ 2,  3,  4,  5,  6,  7,  8,  9, 10, 11, 12, 13, 14, 15, 16, 17, 18,\n",
       "       19])},\n",
       "                   random_state=42, scoring=&#x27;r2&#x27;, verbose=1)</pre><b>In a Jupyter environment, please rerun this cell to show the HTML representation or trust the notebook. <br />On GitHub, the HTML representation is unable to render, please try loading this page with nbviewer.org.</b></div><div class=\"sk-container\" hidden><div class=\"sk-item sk-dashed-wrapped\"><div class=\"sk-label-container\"><div class=\"sk-label sk-toggleable\"><input class=\"sk-toggleable__control sk-hidden--visually\" id=\"sk-estimator-id-7\" type=\"checkbox\" ><label for=\"sk-estimator-id-7\" class=\"sk-toggleable__label sk-toggleable__label-arrow\">RandomizedSearchCV</label><div class=\"sk-toggleable__content\"><pre>RandomizedSearchCV(cv=KFold(n_splits=4, random_state=None, shuffle=False),\n",
       "                   estimator=DecisionTreeRegressor(), n_iter=200, n_jobs=-1,\n",
       "                   param_distributions={&#x27;max_depth&#x27;: array([ 1,  2,  3,  4,  5,  6,  7,  8,  9, 10, 11, 12, 13, 14, 15, 16, 17,\n",
       "       18, 19]),\n",
       "                                        &#x27;max_features&#x27;: array([0.1, 0.2, 0.3, 0.4, 0.5, 0.6, 0.7, 0.8, 0.9]),\n",
       "                                        &#x27;min_samples_leaf&#x27;: array([ 1,  2,  3,  4,  5,  6,  7,  8,  9, 10, 11, 12, 13, 14, 15, 16, 17,\n",
       "       18, 19]),\n",
       "                                        &#x27;min_samples_split&#x27;: array([ 2,  3,  4,  5,  6,  7,  8,  9, 10, 11, 12, 13, 14, 15, 16, 17, 18,\n",
       "       19])},\n",
       "                   random_state=42, scoring=&#x27;r2&#x27;, verbose=1)</pre></div></div></div><div class=\"sk-parallel\"><div class=\"sk-parallel-item\"><div class=\"sk-item\"><div class=\"sk-label-container\"><div class=\"sk-label sk-toggleable\"><input class=\"sk-toggleable__control sk-hidden--visually\" id=\"sk-estimator-id-8\" type=\"checkbox\" ><label for=\"sk-estimator-id-8\" class=\"sk-toggleable__label sk-toggleable__label-arrow\">estimator: DecisionTreeRegressor</label><div class=\"sk-toggleable__content\"><pre>DecisionTreeRegressor()</pre></div></div></div><div class=\"sk-serial\"><div class=\"sk-item\"><div class=\"sk-estimator sk-toggleable\"><input class=\"sk-toggleable__control sk-hidden--visually\" id=\"sk-estimator-id-9\" type=\"checkbox\" ><label for=\"sk-estimator-id-9\" class=\"sk-toggleable__label sk-toggleable__label-arrow\">DecisionTreeRegressor</label><div class=\"sk-toggleable__content\"><pre>DecisionTreeRegressor()</pre></div></div></div></div></div></div></div></div></div></div>"
      ],
      "text/plain": [
       "RandomizedSearchCV(cv=KFold(n_splits=4, random_state=None, shuffle=False),\n",
       "                   estimator=DecisionTreeRegressor(), n_iter=200, n_jobs=-1,\n",
       "                   param_distributions={'max_depth': array([ 1,  2,  3,  4,  5,  6,  7,  8,  9, 10, 11, 12, 13, 14, 15, 16, 17,\n",
       "       18, 19]),\n",
       "                                        'max_features': array([0.1, 0.2, 0.3, 0.4, 0.5, 0.6, 0.7, 0.8, 0.9]),\n",
       "                                        'min_samples_leaf': array([ 1,  2,  3,  4,  5,  6,  7,  8,  9, 10, 11, 12, 13, 14, 15, 16, 17,\n",
       "       18, 19]),\n",
       "                                        'min_samples_split': array([ 2,  3,  4,  5,  6,  7,  8,  9, 10, 11, 12, 13, 14, 15, 16, 17, 18,\n",
       "       19])},\n",
       "                   random_state=42, scoring='r2', verbose=1)"
      ]
     },
     "execution_count": 43,
     "metadata": {},
     "output_type": "execute_result"
    }
   ],
   "source": [
    "## Run Randomize Search\n",
    "DT_RS = RandomizedSearchCV(DecisionTreeRegressor(),\n",
    "                            param_DT,\n",
    "                            cv = KFold(n_splits=4), \n",
    "                            n_jobs = -1,\n",
    "                            verbose = 1,\n",
    "                            scoring = 'r2',\n",
    "                            n_iter = 200,\n",
    "                            random_state = 42)\n",
    "                        \n",
    "## Fit Model\n",
    "DT_RS.fit(x_train,y_train)"
   ]
  },
  {
   "cell_type": "code",
   "execution_count": 44,
   "metadata": {},
   "outputs": [
    {
     "name": "stdout",
     "output_type": "stream",
     "text": [
      "Best Tuning Score :  0.09613986808815783\n",
      "Best params :  {'min_samples_split': 12, 'min_samples_leaf': 19, 'max_features': 0.5, 'max_depth': 11}\n"
     ]
    }
   ],
   "source": [
    "## Define Best R-Squared Score and Best Combination\n",
    "print('Best Tuning Score : ', DT_RS.best_score_)\n",
    "print('Best params : ', DT_RS.best_params_)\n",
    "## Add into variable for next testing\n",
    "DT_Tuned = DT_RS.best_estimator_"
   ]
  },
  {
   "cell_type": "code",
   "execution_count": 45,
   "metadata": {},
   "outputs": [
    {
     "data": {
      "text/html": [
       "<div>\n",
       "<style scoped>\n",
       "    .dataframe tbody tr th:only-of-type {\n",
       "        vertical-align: middle;\n",
       "    }\n",
       "\n",
       "    .dataframe tbody tr th {\n",
       "        vertical-align: top;\n",
       "    }\n",
       "\n",
       "    .dataframe thead th {\n",
       "        text-align: right;\n",
       "    }\n",
       "</style>\n",
       "<table border=\"1\" class=\"dataframe\">\n",
       "  <thead>\n",
       "    <tr style=\"text-align: right;\">\n",
       "      <th></th>\n",
       "      <th>R2</th>\n",
       "      <th>MAE</th>\n",
       "      <th>MSE</th>\n",
       "      <th>RMSE</th>\n",
       "    </tr>\n",
       "  </thead>\n",
       "  <tbody>\n",
       "    <tr>\n",
       "      <th>Training DT Tuned</th>\n",
       "      <td>0.14</td>\n",
       "      <td>358.59</td>\n",
       "      <td>3221632.09</td>\n",
       "      <td>1794.89</td>\n",
       "    </tr>\n",
       "    <tr>\n",
       "      <th>Testing DT Tuned</th>\n",
       "      <td>0.10</td>\n",
       "      <td>371.97</td>\n",
       "      <td>4011609.66</td>\n",
       "      <td>2002.90</td>\n",
       "    </tr>\n",
       "  </tbody>\n",
       "</table>\n",
       "</div>"
      ],
      "text/plain": [
       "                     R2     MAE         MSE     RMSE\n",
       "Training DT Tuned  0.14  358.59  3221632.09  1794.89\n",
       "Testing DT Tuned   0.10  371.97  4011609.66  2002.90"
      ]
     },
     "execution_count": 45,
     "metadata": {},
     "output_type": "execute_result"
    }
   ],
   "source": [
    "## Run Function for Evaluation Matrix scoring for Decision Tree Model after Tuning\n",
    "df_DT_Tuned = Eva_Matrix(DT_Tuned,\n",
    "                            x_train, x_test, y_train, y_test,\n",
    "                            'DT Tuned')\n",
    "df_DT_Tuned\n",
    "## Underfit"
   ]
  },
  {
   "cell_type": "markdown",
   "metadata": {},
   "source": [
    "### Random Forest"
   ]
  },
  {
   "cell_type": "code",
   "execution_count": 46,
   "metadata": {},
   "outputs": [],
   "source": [
    "## Define Parameter\n",
    "param_RF = {\n",
    "    'n_estimators' : np.arange(100, 10000, 50), ## 1980 values\n",
    "    'max_depth' : np.arange(1, 20), # 19 values\n",
    "    'min_samples_split' : np.arange(2, 20), ## 18 values\n",
    "    'min_samples_leaf' : np.arange(1, 20), ## 19 values\n",
    "    'max_features' : np.arange(0.1, 1, 0.1) ## 9 values\n",
    "}"
   ]
  },
  {
   "cell_type": "code",
   "execution_count": 47,
   "metadata": {},
   "outputs": [
    {
     "data": {
      "text/plain": [
       "463177440"
      ]
     },
     "execution_count": 47,
     "metadata": {},
     "output_type": "execute_result"
    }
   ],
   "source": [
    "1980 * 19 * 18 * 19 * 9 * 4\n",
    "# n_estimators\n",
    "# max depth\n",
    "# min samples split\n",
    "# min sample leaf\n",
    "# max features\n",
    "# kfold"
   ]
  },
  {
   "cell_type": "markdown",
   "metadata": {},
   "source": [
    "If we use GridSearch for this computation, Machine will run 463,177,440 combinations and will put a lot of load to computer's processor. Meanwhile when using Randomized Search, we can determine how much iteration (samples) from the total combination, randomly, to be computed by computer."
   ]
  },
  {
   "cell_type": "code",
   "execution_count": 48,
   "metadata": {},
   "outputs": [
    {
     "name": "stdout",
     "output_type": "stream",
     "text": [
      "Fitting 4 folds for each of 300 candidates, totalling 1200 fits\n"
     ]
    },
    {
     "data": {
      "text/html": [
       "<style>#sk-container-id-4 {color: black;background-color: white;}#sk-container-id-4 pre{padding: 0;}#sk-container-id-4 div.sk-toggleable {background-color: white;}#sk-container-id-4 label.sk-toggleable__label {cursor: pointer;display: block;width: 100%;margin-bottom: 0;padding: 0.3em;box-sizing: border-box;text-align: center;}#sk-container-id-4 label.sk-toggleable__label-arrow:before {content: \"▸\";float: left;margin-right: 0.25em;color: #696969;}#sk-container-id-4 label.sk-toggleable__label-arrow:hover:before {color: black;}#sk-container-id-4 div.sk-estimator:hover label.sk-toggleable__label-arrow:before {color: black;}#sk-container-id-4 div.sk-toggleable__content {max-height: 0;max-width: 0;overflow: hidden;text-align: left;background-color: #f0f8ff;}#sk-container-id-4 div.sk-toggleable__content pre {margin: 0.2em;color: black;border-radius: 0.25em;background-color: #f0f8ff;}#sk-container-id-4 input.sk-toggleable__control:checked~div.sk-toggleable__content {max-height: 200px;max-width: 100%;overflow: auto;}#sk-container-id-4 input.sk-toggleable__control:checked~label.sk-toggleable__label-arrow:before {content: \"▾\";}#sk-container-id-4 div.sk-estimator input.sk-toggleable__control:checked~label.sk-toggleable__label {background-color: #d4ebff;}#sk-container-id-4 div.sk-label input.sk-toggleable__control:checked~label.sk-toggleable__label {background-color: #d4ebff;}#sk-container-id-4 input.sk-hidden--visually {border: 0;clip: rect(1px 1px 1px 1px);clip: rect(1px, 1px, 1px, 1px);height: 1px;margin: -1px;overflow: hidden;padding: 0;position: absolute;width: 1px;}#sk-container-id-4 div.sk-estimator {font-family: monospace;background-color: #f0f8ff;border: 1px dotted black;border-radius: 0.25em;box-sizing: border-box;margin-bottom: 0.5em;}#sk-container-id-4 div.sk-estimator:hover {background-color: #d4ebff;}#sk-container-id-4 div.sk-parallel-item::after {content: \"\";width: 100%;border-bottom: 1px solid gray;flex-grow: 1;}#sk-container-id-4 div.sk-label:hover label.sk-toggleable__label {background-color: #d4ebff;}#sk-container-id-4 div.sk-serial::before {content: \"\";position: absolute;border-left: 1px solid gray;box-sizing: border-box;top: 0;bottom: 0;left: 50%;z-index: 0;}#sk-container-id-4 div.sk-serial {display: flex;flex-direction: column;align-items: center;background-color: white;padding-right: 0.2em;padding-left: 0.2em;position: relative;}#sk-container-id-4 div.sk-item {position: relative;z-index: 1;}#sk-container-id-4 div.sk-parallel {display: flex;align-items: stretch;justify-content: center;background-color: white;position: relative;}#sk-container-id-4 div.sk-item::before, #sk-container-id-4 div.sk-parallel-item::before {content: \"\";position: absolute;border-left: 1px solid gray;box-sizing: border-box;top: 0;bottom: 0;left: 50%;z-index: -1;}#sk-container-id-4 div.sk-parallel-item {display: flex;flex-direction: column;z-index: 1;position: relative;background-color: white;}#sk-container-id-4 div.sk-parallel-item:first-child::after {align-self: flex-end;width: 50%;}#sk-container-id-4 div.sk-parallel-item:last-child::after {align-self: flex-start;width: 50%;}#sk-container-id-4 div.sk-parallel-item:only-child::after {width: 0;}#sk-container-id-4 div.sk-dashed-wrapped {border: 1px dashed gray;margin: 0 0.4em 0.5em 0.4em;box-sizing: border-box;padding-bottom: 0.4em;background-color: white;}#sk-container-id-4 div.sk-label label {font-family: monospace;font-weight: bold;display: inline-block;line-height: 1.2em;}#sk-container-id-4 div.sk-label-container {text-align: center;}#sk-container-id-4 div.sk-container {/* jupyter's `normalize.less` sets `[hidden] { display: none; }` but bootstrap.min.css set `[hidden] { display: none !important; }` so we also need the `!important` here to be able to override the default hidden behavior on the sphinx rendered scikit-learn.org. See: https://github.com/scikit-learn/scikit-learn/issues/21755 */display: inline-block !important;position: relative;}#sk-container-id-4 div.sk-text-repr-fallback {display: none;}</style><div id=\"sk-container-id-4\" class=\"sk-top-container\"><div class=\"sk-text-repr-fallback\"><pre>RandomizedSearchCV(cv=KFold(n_splits=4, random_state=None, shuffle=False),\n",
       "                   estimator=RandomForestRegressor(), n_iter=300, n_jobs=-1,\n",
       "                   param_distributions={&#x27;max_depth&#x27;: array([ 1,  2,  3,  4,  5,  6,  7,  8,  9, 10, 11, 12, 13, 14, 15, 16, 17,\n",
       "       18, 19]),\n",
       "                                        &#x27;max_features&#x27;: array([0.1, 0.2, 0.3, 0.4, 0.5, 0.6, 0.7, 0.8, 0.9]),\n",
       "                                        &#x27;min_samples_leaf&#x27;: array([ 1,  2,  3,  4,  5,  6,  7,  8,  9, 10, 11, 12, 13, 14, 15, 16, 17,\n",
       "       18, 19...\n",
       "       6700, 6750, 6800, 6850, 6900, 6950, 7000, 7050, 7100, 7150, 7200,\n",
       "       7250, 7300, 7350, 7400, 7450, 7500, 7550, 7600, 7650, 7700, 7750,\n",
       "       7800, 7850, 7900, 7950, 8000, 8050, 8100, 8150, 8200, 8250, 8300,\n",
       "       8350, 8400, 8450, 8500, 8550, 8600, 8650, 8700, 8750, 8800, 8850,\n",
       "       8900, 8950, 9000, 9050, 9100, 9150, 9200, 9250, 9300, 9350, 9400,\n",
       "       9450, 9500, 9550, 9600, 9650, 9700, 9750, 9800, 9850, 9900, 9950])},\n",
       "                   random_state=42, scoring=&#x27;r2&#x27;, verbose=1)</pre><b>In a Jupyter environment, please rerun this cell to show the HTML representation or trust the notebook. <br />On GitHub, the HTML representation is unable to render, please try loading this page with nbviewer.org.</b></div><div class=\"sk-container\" hidden><div class=\"sk-item sk-dashed-wrapped\"><div class=\"sk-label-container\"><div class=\"sk-label sk-toggleable\"><input class=\"sk-toggleable__control sk-hidden--visually\" id=\"sk-estimator-id-10\" type=\"checkbox\" ><label for=\"sk-estimator-id-10\" class=\"sk-toggleable__label sk-toggleable__label-arrow\">RandomizedSearchCV</label><div class=\"sk-toggleable__content\"><pre>RandomizedSearchCV(cv=KFold(n_splits=4, random_state=None, shuffle=False),\n",
       "                   estimator=RandomForestRegressor(), n_iter=300, n_jobs=-1,\n",
       "                   param_distributions={&#x27;max_depth&#x27;: array([ 1,  2,  3,  4,  5,  6,  7,  8,  9, 10, 11, 12, 13, 14, 15, 16, 17,\n",
       "       18, 19]),\n",
       "                                        &#x27;max_features&#x27;: array([0.1, 0.2, 0.3, 0.4, 0.5, 0.6, 0.7, 0.8, 0.9]),\n",
       "                                        &#x27;min_samples_leaf&#x27;: array([ 1,  2,  3,  4,  5,  6,  7,  8,  9, 10, 11, 12, 13, 14, 15, 16, 17,\n",
       "       18, 19...\n",
       "       6700, 6750, 6800, 6850, 6900, 6950, 7000, 7050, 7100, 7150, 7200,\n",
       "       7250, 7300, 7350, 7400, 7450, 7500, 7550, 7600, 7650, 7700, 7750,\n",
       "       7800, 7850, 7900, 7950, 8000, 8050, 8100, 8150, 8200, 8250, 8300,\n",
       "       8350, 8400, 8450, 8500, 8550, 8600, 8650, 8700, 8750, 8800, 8850,\n",
       "       8900, 8950, 9000, 9050, 9100, 9150, 9200, 9250, 9300, 9350, 9400,\n",
       "       9450, 9500, 9550, 9600, 9650, 9700, 9750, 9800, 9850, 9900, 9950])},\n",
       "                   random_state=42, scoring=&#x27;r2&#x27;, verbose=1)</pre></div></div></div><div class=\"sk-parallel\"><div class=\"sk-parallel-item\"><div class=\"sk-item\"><div class=\"sk-label-container\"><div class=\"sk-label sk-toggleable\"><input class=\"sk-toggleable__control sk-hidden--visually\" id=\"sk-estimator-id-11\" type=\"checkbox\" ><label for=\"sk-estimator-id-11\" class=\"sk-toggleable__label sk-toggleable__label-arrow\">estimator: RandomForestRegressor</label><div class=\"sk-toggleable__content\"><pre>RandomForestRegressor()</pre></div></div></div><div class=\"sk-serial\"><div class=\"sk-item\"><div class=\"sk-estimator sk-toggleable\"><input class=\"sk-toggleable__control sk-hidden--visually\" id=\"sk-estimator-id-12\" type=\"checkbox\" ><label for=\"sk-estimator-id-12\" class=\"sk-toggleable__label sk-toggleable__label-arrow\">RandomForestRegressor</label><div class=\"sk-toggleable__content\"><pre>RandomForestRegressor()</pre></div></div></div></div></div></div></div></div></div></div>"
      ],
      "text/plain": [
       "RandomizedSearchCV(cv=KFold(n_splits=4, random_state=None, shuffle=False),\n",
       "                   estimator=RandomForestRegressor(), n_iter=300, n_jobs=-1,\n",
       "                   param_distributions={'max_depth': array([ 1,  2,  3,  4,  5,  6,  7,  8,  9, 10, 11, 12, 13, 14, 15, 16, 17,\n",
       "       18, 19]),\n",
       "                                        'max_features': array([0.1, 0.2, 0.3, 0.4, 0.5, 0.6, 0.7, 0.8, 0.9]),\n",
       "                                        'min_samples_leaf': array([ 1,  2,  3,  4,  5,  6,  7,  8,  9, 10, 11, 12, 13, 14, 15, 16, 17,\n",
       "       18, 19...\n",
       "       6700, 6750, 6800, 6850, 6900, 6950, 7000, 7050, 7100, 7150, 7200,\n",
       "       7250, 7300, 7350, 7400, 7450, 7500, 7550, 7600, 7650, 7700, 7750,\n",
       "       7800, 7850, 7900, 7950, 8000, 8050, 8100, 8150, 8200, 8250, 8300,\n",
       "       8350, 8400, 8450, 8500, 8550, 8600, 8650, 8700, 8750, 8800, 8850,\n",
       "       8900, 8950, 9000, 9050, 9100, 9150, 9200, 9250, 9300, 9350, 9400,\n",
       "       9450, 9500, 9550, 9600, 9650, 9700, 9750, 9800, 9850, 9900, 9950])},\n",
       "                   random_state=42, scoring='r2', verbose=1)"
      ]
     },
     "execution_count": 48,
     "metadata": {},
     "output_type": "execute_result"
    }
   ],
   "source": [
    "## Run Randomize Search\n",
    "RF_RS = RandomizedSearchCV(RandomForestRegressor(),\n",
    "                            param_RF,\n",
    "                            cv = KFold(n_splits=4), \n",
    "                            n_jobs = -1,\n",
    "                            verbose = 1,\n",
    "                            scoring = 'r2',\n",
    "                            n_iter = 300,\n",
    "                            random_state = 42)\n",
    "                        \n",
    "## Fit Model\n",
    "RF_RS.fit(x_train,y_train)"
   ]
  },
  {
   "cell_type": "code",
   "execution_count": 49,
   "metadata": {},
   "outputs": [
    {
     "name": "stdout",
     "output_type": "stream",
     "text": [
      "Best Tuning Score :  0.18073596794527064\n",
      "Best params :  {'n_estimators': 5950, 'min_samples_split': 11, 'min_samples_leaf': 4, 'max_features': 0.9, 'max_depth': 16}\n"
     ]
    }
   ],
   "source": [
    "## Define Best R-Squared Score and Best Combination\n",
    "print('Best Tuning Score : ', RF_RS.best_score_)\n",
    "print('Best params : ', RF_RS.best_params_)\n",
    "## Add into variable for next testing\n",
    "RF_Tuned = RF_RS.best_estimator_"
   ]
  },
  {
   "cell_type": "code",
   "execution_count": 50,
   "metadata": {},
   "outputs": [
    {
     "data": {
      "text/html": [
       "<div>\n",
       "<style scoped>\n",
       "    .dataframe tbody tr th:only-of-type {\n",
       "        vertical-align: middle;\n",
       "    }\n",
       "\n",
       "    .dataframe tbody tr th {\n",
       "        vertical-align: top;\n",
       "    }\n",
       "\n",
       "    .dataframe thead th {\n",
       "        text-align: right;\n",
       "    }\n",
       "</style>\n",
       "<table border=\"1\" class=\"dataframe\">\n",
       "  <thead>\n",
       "    <tr style=\"text-align: right;\">\n",
       "      <th></th>\n",
       "      <th>R2</th>\n",
       "      <th>MAE</th>\n",
       "      <th>MSE</th>\n",
       "      <th>RMSE</th>\n",
       "    </tr>\n",
       "  </thead>\n",
       "  <tbody>\n",
       "    <tr>\n",
       "      <th>Training RF Tuned</th>\n",
       "      <td>0.39</td>\n",
       "      <td>306.08</td>\n",
       "      <td>2294484.28</td>\n",
       "      <td>1514.76</td>\n",
       "    </tr>\n",
       "    <tr>\n",
       "      <th>Testing RF Tuned</th>\n",
       "      <td>0.23</td>\n",
       "      <td>355.26</td>\n",
       "      <td>3455854.23</td>\n",
       "      <td>1858.99</td>\n",
       "    </tr>\n",
       "  </tbody>\n",
       "</table>\n",
       "</div>"
      ],
      "text/plain": [
       "                     R2     MAE         MSE     RMSE\n",
       "Training RF Tuned  0.39  306.08  2294484.28  1514.76\n",
       "Testing RF Tuned   0.23  355.26  3455854.23  1858.99"
      ]
     },
     "execution_count": 50,
     "metadata": {},
     "output_type": "execute_result"
    }
   ],
   "source": [
    "## Run Function for Evaluation Matrix scoring for Random Forest Model after Tuning\n",
    "df_RF_Tuned = Eva_Matrix(RF_Tuned,\n",
    "                            x_train, x_test, y_train, y_test,\n",
    "                            'RF Tuned')\n",
    "df_RF_Tuned\n",
    "## Underfit"
   ]
  }
 ],
 "metadata": {
  "kernelspec": {
   "display_name": "Python 3.10.5 64-bit (windows store)",
   "language": "python",
   "name": "python3"
  },
  "language_info": {
   "codemirror_mode": {
    "name": "ipython",
    "version": 3
   },
   "file_extension": ".py",
   "mimetype": "text/x-python",
   "name": "python",
   "nbconvert_exporter": "python",
   "pygments_lexer": "ipython3",
   "version": "3.10.5"
  },
  "orig_nbformat": 4,
  "vscode": {
   "interpreter": {
    "hash": "bbdc6700f60de612a9776dd7a4bd392f8898b0d00245e53755bddb2281dd5e23"
   }
  }
 },
 "nbformat": 4,
 "nbformat_minor": 2
}
